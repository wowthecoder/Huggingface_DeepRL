{
 "cells": [
  {
   "cell_type": "code",
   "execution_count": 1,
   "id": "1a36309c",
   "metadata": {
    "_cell_guid": "b1076dfc-b9ad-4769-8c92-a6c4dae69d19",
    "_uuid": "8f2839f25d086af736a60e9eeb907d3b93b6e0e5",
    "execution": {
     "iopub.execute_input": "2025-01-18T20:53:00.147182Z",
     "iopub.status.busy": "2025-01-18T20:53:00.146894Z",
     "iopub.status.idle": "2025-01-18T20:53:26.795059Z",
     "shell.execute_reply": "2025-01-18T20:53:26.793732Z"
    },
    "papermill": {
     "duration": 26.65652,
     "end_time": "2025-01-18T20:53:26.798362",
     "exception": false,
     "start_time": "2025-01-18T20:53:00.141842",
     "status": "completed"
    },
    "tags": []
   },
   "outputs": [],
   "source": [
    "%%capture\n",
    "!apt install python-opengl\n",
    "!apt install ffmpeg\n",
    "!apt install xvfb\n",
    "!pip install pyvirtualdisplay\n",
    "!pip install pyglet==1.5.1"
   ]
  },
  {
   "cell_type": "code",
   "execution_count": 2,
   "id": "e63d68c2",
   "metadata": {
    "execution": {
     "iopub.execute_input": "2025-01-18T20:53:26.807026Z",
     "iopub.status.busy": "2025-01-18T20:53:26.806734Z",
     "iopub.status.idle": "2025-01-18T20:53:27.463115Z",
     "shell.execute_reply": "2025-01-18T20:53:27.462243Z"
    },
    "papermill": {
     "duration": 0.662719,
     "end_time": "2025-01-18T20:53:27.465000",
     "exception": false,
     "start_time": "2025-01-18T20:53:26.802281",
     "status": "completed"
    },
    "tags": []
   },
   "outputs": [
    {
     "data": {
      "text/plain": [
       "<pyvirtualdisplay.display.Display at 0x7e56f86d7550>"
      ]
     },
     "execution_count": 2,
     "metadata": {},
     "output_type": "execute_result"
    }
   ],
   "source": [
    "# Virtual display\n",
    "from pyvirtualdisplay import Display\n",
    "\n",
    "virtual_display = Display(visible=0, size=(1400, 900))\n",
    "virtual_display.start()"
   ]
  },
  {
   "cell_type": "code",
   "execution_count": 3,
   "id": "2a1a3f1f",
   "metadata": {
    "execution": {
     "iopub.execute_input": "2025-01-18T20:53:27.473211Z",
     "iopub.status.busy": "2025-01-18T20:53:27.472945Z",
     "iopub.status.idle": "2025-01-18T20:53:43.588062Z",
     "shell.execute_reply": "2025-01-18T20:53:43.587190Z"
    },
    "papermill": {
     "duration": 16.121418,
     "end_time": "2025-01-18T20:53:43.590079",
     "exception": false,
     "start_time": "2025-01-18T20:53:27.468661",
     "status": "completed"
    },
    "tags": []
   },
   "outputs": [
    {
     "name": "stdout",
     "output_type": "stream",
     "text": [
      "Collecting git+https://github.com/ntasfi/PyGame-Learning-Environment.git (from -r https://raw.githubusercontent.com/huggingface/deep-rl-class/main/notebooks/unit4/requirements-unit4.txt (line 1))\r\n",
      "  Cloning https://github.com/ntasfi/PyGame-Learning-Environment.git to /tmp/pip-req-build-a8iud646\r\n",
      "  Running command git clone --filter=blob:none --quiet https://github.com/ntasfi/PyGame-Learning-Environment.git /tmp/pip-req-build-a8iud646\r\n",
      "  Resolved https://github.com/ntasfi/PyGame-Learning-Environment.git to commit 3dbe79dc0c35559bb441b9359948aabf9bb3d331\r\n",
      "  Preparing metadata (setup.py) ... \u001b[?25ldone\r\n",
      "\u001b[?25hCollecting git+https://github.com/simoninithomas/gym-games (from -r https://raw.githubusercontent.com/huggingface/deep-rl-class/main/notebooks/unit4/requirements-unit4.txt (line 2))\r\n",
      "  Cloning https://github.com/simoninithomas/gym-games to /tmp/pip-req-build-_z6al8by\r\n",
      "  Running command git clone --filter=blob:none --quiet https://github.com/simoninithomas/gym-games /tmp/pip-req-build-_z6al8by\r\n",
      "  Resolved https://github.com/simoninithomas/gym-games to commit f31695e4ba028400628dc054ee8a436f28193f0b\r\n",
      "  Preparing metadata (setup.py) ... \u001b[?25ldone\r\n",
      "\u001b[?25hRequirement already satisfied: huggingface_hub in /opt/conda/lib/python3.10/site-packages (from -r https://raw.githubusercontent.com/huggingface/deep-rl-class/main/notebooks/unit4/requirements-unit4.txt (line 3)) (0.25.1)\r\n",
      "Collecting imageio-ffmpeg (from -r https://raw.githubusercontent.com/huggingface/deep-rl-class/main/notebooks/unit4/requirements-unit4.txt (line 4))\r\n",
      "  Downloading imageio_ffmpeg-0.6.0-py3-none-manylinux2014_x86_64.whl.metadata (1.5 kB)\r\n",
      "Collecting pyyaml==6.0 (from -r https://raw.githubusercontent.com/huggingface/deep-rl-class/main/notebooks/unit4/requirements-unit4.txt (line 5))\r\n",
      "  Downloading PyYAML-6.0-cp310-cp310-manylinux_2_5_x86_64.manylinux1_x86_64.manylinux_2_12_x86_64.manylinux2010_x86_64.whl.metadata (2.0 kB)\r\n",
      "Requirement already satisfied: numpy in /opt/conda/lib/python3.10/site-packages (from ple==0.0.1->-r https://raw.githubusercontent.com/huggingface/deep-rl-class/main/notebooks/unit4/requirements-unit4.txt (line 1)) (1.26.4)\r\n",
      "Requirement already satisfied: Pillow in /opt/conda/lib/python3.10/site-packages (from ple==0.0.1->-r https://raw.githubusercontent.com/huggingface/deep-rl-class/main/notebooks/unit4/requirements-unit4.txt (line 1)) (10.3.0)\r\n",
      "Requirement already satisfied: gym>=0.13.0 in /opt/conda/lib/python3.10/site-packages (from gym-games==1.0.4->-r https://raw.githubusercontent.com/huggingface/deep-rl-class/main/notebooks/unit4/requirements-unit4.txt (line 2)) (0.26.2)\r\n",
      "Requirement already satisfied: setuptools>=65.5.1 in /opt/conda/lib/python3.10/site-packages (from gym-games==1.0.4->-r https://raw.githubusercontent.com/huggingface/deep-rl-class/main/notebooks/unit4/requirements-unit4.txt (line 2)) (70.0.0)\r\n",
      "Collecting pygame>=1.9.6 (from gym-games==1.0.4->-r https://raw.githubusercontent.com/huggingface/deep-rl-class/main/notebooks/unit4/requirements-unit4.txt (line 2))\r\n",
      "  Downloading pygame-2.6.1-cp310-cp310-manylinux_2_17_x86_64.manylinux2014_x86_64.whl.metadata (12 kB)\r\n",
      "Requirement already satisfied: filelock in /opt/conda/lib/python3.10/site-packages (from huggingface_hub->-r https://raw.githubusercontent.com/huggingface/deep-rl-class/main/notebooks/unit4/requirements-unit4.txt (line 3)) (3.15.1)\r\n",
      "Requirement already satisfied: fsspec>=2023.5.0 in /opt/conda/lib/python3.10/site-packages (from huggingface_hub->-r https://raw.githubusercontent.com/huggingface/deep-rl-class/main/notebooks/unit4/requirements-unit4.txt (line 3)) (2024.6.1)\r\n",
      "Requirement already satisfied: packaging>=20.9 in /opt/conda/lib/python3.10/site-packages (from huggingface_hub->-r https://raw.githubusercontent.com/huggingface/deep-rl-class/main/notebooks/unit4/requirements-unit4.txt (line 3)) (21.3)\r\n",
      "Requirement already satisfied: requests in /opt/conda/lib/python3.10/site-packages (from huggingface_hub->-r https://raw.githubusercontent.com/huggingface/deep-rl-class/main/notebooks/unit4/requirements-unit4.txt (line 3)) (2.32.3)\r\n",
      "Requirement already satisfied: tqdm>=4.42.1 in /opt/conda/lib/python3.10/site-packages (from huggingface_hub->-r https://raw.githubusercontent.com/huggingface/deep-rl-class/main/notebooks/unit4/requirements-unit4.txt (line 3)) (4.66.4)\r\n",
      "Requirement already satisfied: typing-extensions>=3.7.4.3 in /opt/conda/lib/python3.10/site-packages (from huggingface_hub->-r https://raw.githubusercontent.com/huggingface/deep-rl-class/main/notebooks/unit4/requirements-unit4.txt (line 3)) (4.12.2)\r\n",
      "Requirement already satisfied: cloudpickle>=1.2.0 in /opt/conda/lib/python3.10/site-packages (from gym>=0.13.0->gym-games==1.0.4->-r https://raw.githubusercontent.com/huggingface/deep-rl-class/main/notebooks/unit4/requirements-unit4.txt (line 2)) (3.0.0)\r\n",
      "Requirement already satisfied: gym-notices>=0.0.4 in /opt/conda/lib/python3.10/site-packages (from gym>=0.13.0->gym-games==1.0.4->-r https://raw.githubusercontent.com/huggingface/deep-rl-class/main/notebooks/unit4/requirements-unit4.txt (line 2)) (0.0.8)\r\n",
      "Requirement already satisfied: pyparsing!=3.0.5,>=2.0.2 in /opt/conda/lib/python3.10/site-packages (from packaging>=20.9->huggingface_hub->-r https://raw.githubusercontent.com/huggingface/deep-rl-class/main/notebooks/unit4/requirements-unit4.txt (line 3)) (3.1.2)\r\n",
      "Requirement already satisfied: charset-normalizer<4,>=2 in /opt/conda/lib/python3.10/site-packages (from requests->huggingface_hub->-r https://raw.githubusercontent.com/huggingface/deep-rl-class/main/notebooks/unit4/requirements-unit4.txt (line 3)) (3.3.2)\r\n",
      "Requirement already satisfied: idna<4,>=2.5 in /opt/conda/lib/python3.10/site-packages (from requests->huggingface_hub->-r https://raw.githubusercontent.com/huggingface/deep-rl-class/main/notebooks/unit4/requirements-unit4.txt (line 3)) (3.7)\r\n",
      "Requirement already satisfied: urllib3<3,>=1.21.1 in /opt/conda/lib/python3.10/site-packages (from requests->huggingface_hub->-r https://raw.githubusercontent.com/huggingface/deep-rl-class/main/notebooks/unit4/requirements-unit4.txt (line 3)) (1.26.18)\r\n",
      "Requirement already satisfied: certifi>=2017.4.17 in /opt/conda/lib/python3.10/site-packages (from requests->huggingface_hub->-r https://raw.githubusercontent.com/huggingface/deep-rl-class/main/notebooks/unit4/requirements-unit4.txt (line 3)) (2024.8.30)\r\n",
      "Downloading PyYAML-6.0-cp310-cp310-manylinux_2_5_x86_64.manylinux1_x86_64.manylinux_2_12_x86_64.manylinux2010_x86_64.whl (682 kB)\r\n",
      "\u001b[2K   \u001b[90m━━━━━━━━━━━━━━━━━━━━━━━━━━━━━━━━━━━━━━━━\u001b[0m \u001b[32m682.2/682.2 kB\u001b[0m \u001b[31m10.3 MB/s\u001b[0m eta \u001b[36m0:00:00\u001b[0m\r\n",
      "\u001b[?25hDownloading imageio_ffmpeg-0.6.0-py3-none-manylinux2014_x86_64.whl (29.5 MB)\r\n",
      "\u001b[2K   \u001b[90m━━━━━━━━━━━━━━━━━━━━━━━━━━━━━━━━━━━━━━━━\u001b[0m \u001b[32m29.5/29.5 MB\u001b[0m \u001b[31m51.5 MB/s\u001b[0m eta \u001b[36m0:00:00\u001b[0m\r\n",
      "\u001b[?25hDownloading pygame-2.6.1-cp310-cp310-manylinux_2_17_x86_64.manylinux2014_x86_64.whl (14.0 MB)\r\n",
      "\u001b[2K   \u001b[90m━━━━━━━━━━━━━━━━━━━━━━━━━━━━━━━━━━━━━━━━\u001b[0m \u001b[32m14.0/14.0 MB\u001b[0m \u001b[31m90.0 MB/s\u001b[0m eta \u001b[36m0:00:00\u001b[0m\r\n",
      "\u001b[?25hBuilding wheels for collected packages: ple, gym-games\r\n",
      "  Building wheel for ple (setup.py) ... \u001b[?25l-\b \bdone\r\n",
      "\u001b[?25h  Created wheel for ple: filename=ple-0.0.1-py3-none-any.whl size=50769 sha256=cc03ead3d5e823199929ac919db531c0233de3a04eb51fde1e338b01c36f9357\r\n",
      "  Stored in directory: /tmp/pip-ephem-wheel-cache-xys6iaw1/wheels/f8/31/ca/a64a7ce73540465412d82813780d062db53b90e3f42a4ecb7f\r\n",
      "  Building wheel for gym-games (setup.py) ... \u001b[?25l-\b \bdone\r\n",
      "\u001b[?25h  Created wheel for gym-games: filename=gym_games-1.0.4-py3-none-any.whl size=17305 sha256=4b6de6d5192b430f232ae95713c11316d0d2b03ded4087683a16efa2f3e7e364\r\n",
      "  Stored in directory: /tmp/pip-ephem-wheel-cache-xys6iaw1/wheels/ca/bf/6b/7d631626202ebb033c908a688d1862ff4d948c34cf621d7dc9\r\n",
      "Successfully built ple gym-games\r\n",
      "Installing collected packages: pyyaml, pygame, ple, imageio-ffmpeg, gym-games\r\n",
      "  Attempting uninstall: pyyaml\r\n",
      "    Found existing installation: PyYAML 6.0.2\r\n",
      "    Uninstalling PyYAML-6.0.2:\r\n",
      "      Successfully uninstalled PyYAML-6.0.2\r\n",
      "\u001b[31mERROR: pip's dependency resolver does not currently take into account all the packages that are installed. This behaviour is the source of the following dependency conflicts.\r\n",
      "distributed 2024.7.1 requires dask==2024.7.1, but you have dask 2024.9.1 which is incompatible.\r\n",
      "jupyterlab 4.2.5 requires jupyter-lsp>=2.0.0, but you have jupyter-lsp 1.5.1 which is incompatible.\r\n",
      "jupyterlab-lsp 5.1.0 requires jupyter-lsp>=2.0.0, but you have jupyter-lsp 1.5.1 which is incompatible.\r\n",
      "kfp 2.5.0 requires google-cloud-storage<3,>=2.2.1, but you have google-cloud-storage 1.44.0 which is incompatible.\r\n",
      "rapids-dask-dependency 24.8.0a0 requires dask==2024.7.1, but you have dask 2024.9.1 which is incompatible.\r\n",
      "ydata-profiling 4.10.0 requires scipy<1.14,>=1.4.1, but you have scipy 1.14.1 which is incompatible.\u001b[0m\u001b[31m\r\n",
      "\u001b[0mSuccessfully installed gym-games-1.0.4 imageio-ffmpeg-0.6.0 ple-0.0.1 pygame-2.6.1 pyyaml-6.0\r\n"
     ]
    }
   ],
   "source": [
    "!pip install -r https://raw.githubusercontent.com/huggingface/deep-rl-class/main/notebooks/unit4/requirements-unit4.txt"
   ]
  },
  {
   "cell_type": "code",
   "execution_count": 4,
   "id": "a9a0cc4a",
   "metadata": {
    "execution": {
     "iopub.execute_input": "2025-01-18T20:53:43.603981Z",
     "iopub.status.busy": "2025-01-18T20:53:43.603689Z",
     "iopub.status.idle": "2025-01-18T20:53:47.541590Z",
     "shell.execute_reply": "2025-01-18T20:53:47.540647Z"
    },
    "papermill": {
     "duration": 3.946365,
     "end_time": "2025-01-18T20:53:47.543752",
     "exception": false,
     "start_time": "2025-01-18T20:53:43.597387",
     "status": "completed"
    },
    "tags": []
   },
   "outputs": [],
   "source": [
    "from collections import deque\n",
    "\n",
    "import numpy as np\n",
    "import matplotlib.pyplot as plt\n",
    "%matplotlib inline\n",
    "\n",
    "# PyTorch\n",
    "import torch\n",
    "import torch.nn as nn\n",
    "import torch.nn.functional as F\n",
    "import torch.optim as optim\n",
    "import torch.optim.lr_scheduler as lr_scheduler\n",
    "from torch.distributions import Categorical\n",
    "\n",
    "# Gym\n",
    "import gym\n",
    "import gym_pygame\n",
    "\n",
    "# HuggingFace Hub\n",
    "from huggingface_hub import notebook_login, login\n",
    "import imageio"
   ]
  },
  {
   "cell_type": "code",
   "execution_count": 5,
   "id": "0bf2a618",
   "metadata": {
    "execution": {
     "iopub.execute_input": "2025-01-18T20:53:47.556048Z",
     "iopub.status.busy": "2025-01-18T20:53:47.555662Z",
     "iopub.status.idle": "2025-01-18T20:53:47.636213Z",
     "shell.execute_reply": "2025-01-18T20:53:47.635310Z"
    },
    "papermill": {
     "duration": 0.088533,
     "end_time": "2025-01-18T20:53:47.637850",
     "exception": false,
     "start_time": "2025-01-18T20:53:47.549317",
     "status": "completed"
    },
    "tags": []
   },
   "outputs": [
    {
     "name": "stdout",
     "output_type": "stream",
     "text": [
      "cuda:0\n"
     ]
    }
   ],
   "source": [
    "device = torch.device(\"cuda:0\" if torch.cuda.is_available() else \"cpu\")\n",
    "print(device)"
   ]
  },
  {
   "cell_type": "code",
   "execution_count": 6,
   "id": "cad72a5c",
   "metadata": {
    "execution": {
     "iopub.execute_input": "2025-01-18T20:53:47.649886Z",
     "iopub.status.busy": "2025-01-18T20:53:47.649576Z",
     "iopub.status.idle": "2025-01-18T20:53:47.953065Z",
     "shell.execute_reply": "2025-01-18T20:53:47.951725Z"
    },
    "papermill": {
     "duration": 0.311842,
     "end_time": "2025-01-18T20:53:47.955252",
     "exception": false,
     "start_time": "2025-01-18T20:53:47.643410",
     "status": "completed"
    },
    "tags": []
   },
   "outputs": [
    {
     "name": "stdout",
     "output_type": "stream",
     "text": [
      "couldn't import doomish\n",
      "Couldn't import doom\n"
     ]
    }
   ],
   "source": [
    "env_id = \"Pixelcopter-PLE-v0\"\n",
    "env = gym.make(env_id)\n",
    "eval_env = gym.make(env_id)\n",
    "s_size = env.observation_space.shape[0]\n",
    "a_size = env.action_space.n"
   ]
  },
  {
   "cell_type": "code",
   "execution_count": 7,
   "id": "4f5a298e",
   "metadata": {
    "execution": {
     "iopub.execute_input": "2025-01-18T20:53:47.968502Z",
     "iopub.status.busy": "2025-01-18T20:53:47.967617Z",
     "iopub.status.idle": "2025-01-18T20:53:47.974084Z",
     "shell.execute_reply": "2025-01-18T20:53:47.973123Z"
    },
    "papermill": {
     "duration": 0.014816,
     "end_time": "2025-01-18T20:53:47.975804",
     "exception": false,
     "start_time": "2025-01-18T20:53:47.960988",
     "status": "completed"
    },
    "tags": []
   },
   "outputs": [
    {
     "name": "stdout",
     "output_type": "stream",
     "text": [
      "_____OBSERVATION SPACE_____ \n",
      "\n",
      "The State Space is:  7\n",
      "Sample observation [-0.1123758   0.26218843  0.83339405  0.70509326 -1.598042    0.01823723\n",
      "  0.8897045 ]\n"
     ]
    }
   ],
   "source": [
    "print(\"_____OBSERVATION SPACE_____ \\n\")\n",
    "print(\"The State Space is: \", s_size)\n",
    "print(\"Sample observation\", env.observation_space.sample())  # Get a random observation"
   ]
  },
  {
   "cell_type": "code",
   "execution_count": 8,
   "id": "81c38699",
   "metadata": {
    "execution": {
     "iopub.execute_input": "2025-01-18T20:53:47.987934Z",
     "iopub.status.busy": "2025-01-18T20:53:47.987486Z",
     "iopub.status.idle": "2025-01-18T20:53:47.991916Z",
     "shell.execute_reply": "2025-01-18T20:53:47.991125Z"
    },
    "papermill": {
     "duration": 0.012457,
     "end_time": "2025-01-18T20:53:47.993700",
     "exception": false,
     "start_time": "2025-01-18T20:53:47.981243",
     "status": "completed"
    },
    "tags": []
   },
   "outputs": [
    {
     "name": "stdout",
     "output_type": "stream",
     "text": [
      "\n",
      " _____ACTION SPACE_____ \n",
      "\n",
      "The Action Space is:  2\n",
      "Action Space Sample 1\n"
     ]
    }
   ],
   "source": [
    "print(\"\\n _____ACTION SPACE_____ \\n\")\n",
    "print(\"The Action Space is: \", a_size)\n",
    "print(\"Action Space Sample\", env.action_space.sample())  # Take a random action"
   ]
  },
  {
   "cell_type": "code",
   "execution_count": 9,
   "id": "c13cbd41",
   "metadata": {
    "execution": {
     "iopub.execute_input": "2025-01-18T20:53:48.005319Z",
     "iopub.status.busy": "2025-01-18T20:53:48.004780Z",
     "iopub.status.idle": "2025-01-18T20:53:48.010756Z",
     "shell.execute_reply": "2025-01-18T20:53:48.010085Z"
    },
    "papermill": {
     "duration": 0.013512,
     "end_time": "2025-01-18T20:53:48.012267",
     "exception": false,
     "start_time": "2025-01-18T20:53:47.998755",
     "status": "completed"
    },
    "tags": []
   },
   "outputs": [],
   "source": [
    "class Policy(nn.Module):\n",
    "    def __init__(self, s_size, a_size, h_size):\n",
    "        super(Policy, self).__init__() \n",
    "        self.fc1 = nn.Linear(s_size, h_size)\n",
    "        self.fc2 = nn.Linear(h_size, h_size * 2)\n",
    "        self.fc3 = nn.Linear(h_size * 2, a_size)\n",
    "\n",
    "    def forward(self, x):\n",
    "        x = F.relu(self.fc1(x))\n",
    "        x = F.relu(self.fc2(x))\n",
    "        x = self.fc3(x)\n",
    "        return F.softmax(x, dim=1)\n",
    "\n",
    "    def act(self, state):\n",
    "        state = torch.from_numpy(state).float().unsqueeze(0).to(device)\n",
    "        probs = self.forward(state)\n",
    "        m = Categorical(probs)\n",
    "        action = m.sample()\n",
    "        return action.item(), m.log_prob(action)"
   ]
  },
  {
   "cell_type": "code",
   "execution_count": 10,
   "id": "c423e79a",
   "metadata": {
    "execution": {
     "iopub.execute_input": "2025-01-18T20:53:48.023605Z",
     "iopub.status.busy": "2025-01-18T20:53:48.023382Z",
     "iopub.status.idle": "2025-01-18T20:53:48.027732Z",
     "shell.execute_reply": "2025-01-18T20:53:48.027104Z"
    },
    "papermill": {
     "duration": 0.01182,
     "end_time": "2025-01-18T20:53:48.029319",
     "exception": false,
     "start_time": "2025-01-18T20:53:48.017499",
     "status": "completed"
    },
    "tags": []
   },
   "outputs": [],
   "source": [
    "# Estimates a value given a state. Used as baseline\n",
    "class Value(nn.Module):\n",
    "    def __init__(self, s_size, h_size):\n",
    "        super(Value, self).__init__()\n",
    "        self.fc1 = nn.Linear(s_size, h_size)\n",
    "        # output size is 1 because we are estimating a numeric value for each state\n",
    "        self.fc2 = nn.Linear(h_size, 1)\n",
    "\n",
    "    def forward(self, x):\n",
    "        x = F.relu(self.fc1(x))\n",
    "        x = self.fc2(x)\n",
    "        return x"
   ]
  },
  {
   "cell_type": "code",
   "execution_count": 11,
   "id": "e13fb921",
   "metadata": {
    "execution": {
     "iopub.execute_input": "2025-01-18T20:53:48.040912Z",
     "iopub.status.busy": "2025-01-18T20:53:48.040644Z",
     "iopub.status.idle": "2025-01-18T20:53:48.049392Z",
     "shell.execute_reply": "2025-01-18T20:53:48.048662Z"
    },
    "papermill": {
     "duration": 0.016434,
     "end_time": "2025-01-18T20:53:48.050964",
     "exception": false,
     "start_time": "2025-01-18T20:53:48.034530",
     "status": "completed"
    },
    "tags": []
   },
   "outputs": [],
   "source": [
    "def reinforce(policy, baseline, policy_optimizer, baseline_optimizer, n_training_episodes, max_t, gamma, print_every):\n",
    "    # Help us to calculate the score during the training\n",
    "    scores_deque = deque(maxlen=100)\n",
    "    scores = []\n",
    "\n",
    "    # Line 3 of pseudocode\n",
    "    for i_episode in range(1, n_training_episodes + 1):\n",
    "        saved_log_probs = []\n",
    "        rewards = []\n",
    "        states = []\n",
    "\n",
    "        # reset the environment\n",
    "        state = env.reset()\n",
    "\n",
    "        # Line 4 of pseudocode (Generate an episode)\n",
    "        for t in range(max_t):\n",
    "            # get the action\n",
    "            action, log_prob = policy.act(state)\n",
    "            saved_log_probs.append(log_prob)\n",
    "            states.append(state)\n",
    "            # Take a step in the environment\n",
    "            state, reward, done, _ = env.step(action)\n",
    "            rewards.append(reward)\n",
    "            if done:\n",
    "                break\n",
    "\n",
    "        total_rewards = sum(rewards)\n",
    "        scores_deque.append(total_rewards)\n",
    "        scores.append(total_rewards)\n",
    "\n",
    "        # Line 5 and 6 of pseudocode: calculate the return\n",
    "        returns = deque(maxlen=max_t)\n",
    "        n_steps = len(rewards)\n",
    "\n",
    "        # Calculate the sum of discounted rewards starting at timestep t\n",
    "        # G_t = r_(t+1) + gamma * r_(t+2) + ... + gamma ^n * r_(T-1)\n",
    "        # We can do it backwards from max_t - 1 to 0 to avoid recomputing redundant values\n",
    "        # G_t = r_(t+1) + gamma * G_(t+1)\n",
    "        # The queue \"returns\" will hold the returns in chronological order from t=0\n",
    "        for t in range(n_steps-1, -1, -1):\n",
    "            disc_return_t = returns[0] if len(returns) > 0 else 0\n",
    "            returns.appendleft(rewards[t] + gamma * disc_return_t)\n",
    "\n",
    "        # eps is the smallest representable float (machine epsilon)\n",
    "        eps = np.finfo(np.float32).eps.item()\n",
    "\n",
    "        # standardization of the returns is employed to make training more stable\n",
    "        returns = torch.tensor(returns).to(device)\n",
    "        returns = (returns - returns.mean()) / (returns.std() + eps)\n",
    "\n",
    "        # Calculate delta to use in place of returns\n",
    "        states_tensor = torch.from_numpy(np.array(states)).float().to(device)\n",
    "        baseline_preds = baseline(states_tensor).squeeze()\n",
    "        deltas = returns - baseline_preds.detach()\n",
    "\n",
    "        # Update value network (also baseline network)\n",
    "        baseline_loss = nn.MSELoss()(baseline_preds, returns)\n",
    "        baseline_optimizer.zero_grad()\n",
    "        baseline_loss.backward()\n",
    "        baseline_optimizer.step()\n",
    "\n",
    "        # Line 7 of pseudocode (Calculate gradient delta)\n",
    "        # Negative because we are performing gradient descent instead of ascent\n",
    "        policy_loss = -torch.stack(saved_log_probs) * deltas\n",
    "        policy_loss = policy_loss.sum()\n",
    "\n",
    "        # Line 8: Update policy network\n",
    "        # PyTorch perfers gradient descent\n",
    "        # Set gradients to zero before GD\n",
    "        policy_optimizer.zero_grad()\n",
    "        policy_loss.backward()\n",
    "        policy_optimizer.step()\n",
    "        \n",
    "\n",
    "        if i_episode % print_every == 0:\n",
    "            print('Episode {}\\tAverage Score: {:.2f}'\n",
    "                  .format(i_episode, np.mean(scores_deque)))\n",
    "\n",
    "    return scores"
   ]
  },
  {
   "cell_type": "code",
   "execution_count": 12,
   "id": "24a0f719",
   "metadata": {
    "execution": {
     "iopub.execute_input": "2025-01-18T20:53:48.062933Z",
     "iopub.status.busy": "2025-01-18T20:53:48.062685Z",
     "iopub.status.idle": "2025-01-18T20:53:48.067983Z",
     "shell.execute_reply": "2025-01-18T20:53:48.067303Z"
    },
    "papermill": {
     "duration": 0.01288,
     "end_time": "2025-01-18T20:53:48.069534",
     "exception": false,
     "start_time": "2025-01-18T20:53:48.056654",
     "status": "completed"
    },
    "tags": []
   },
   "outputs": [],
   "source": [
    "def evaluate_agent(env, max_steps, n_eval_episodes, policy):\n",
    "    \"\"\"\n",
    "    Evaluate the agent for ``n_eval_episodes`` episodes and returns average reward and std of reward.\n",
    "    :param env: The evaluation environment\n",
    "    :param n_eval_episodes: Number of episode to evaluate the agent\n",
    "    :param policy: The Reinforce agent\n",
    "    \"\"\"\n",
    "    episode_rewards = []\n",
    "    for episode in range(n_eval_episodes):\n",
    "        state = env.reset()\n",
    "        total_rewards_ep = 0\n",
    "\n",
    "        for step in range(max_steps):\n",
    "            action, _ = policy.act(state)\n",
    "            state, reward, done, _ = env.step(action)\n",
    "            total_rewards_ep += reward\n",
    "            if done:\n",
    "                break\n",
    "        episode_rewards.append(total_rewards_ep)\n",
    "\n",
    "    mean_reward = np.mean(episode_rewards)\n",
    "    std_reward = np.std(episode_rewards)\n",
    "    return mean_reward, std_reward"
   ]
  },
  {
   "cell_type": "code",
   "execution_count": 13,
   "id": "88a73d1c",
   "metadata": {
    "execution": {
     "iopub.execute_input": "2025-01-18T20:53:48.081306Z",
     "iopub.status.busy": "2025-01-18T20:53:48.081053Z",
     "iopub.status.idle": "2025-01-18T20:53:48.331087Z",
     "shell.execute_reply": "2025-01-18T20:53:48.330244Z"
    },
    "papermill": {
     "duration": 0.25843,
     "end_time": "2025-01-18T20:53:48.333328",
     "exception": false,
     "start_time": "2025-01-18T20:53:48.074898",
     "status": "completed"
    },
    "tags": []
   },
   "outputs": [],
   "source": [
    "from huggingface_hub import HfApi, snapshot_download\n",
    "from huggingface_hub.repocard import metadata_eval_result, metadata_save\n",
    "from pathlib import Path\n",
    "import datetime\n",
    "import json\n",
    "import imageio\n",
    "import tempfile\n",
    "import os\n",
    "\n",
    "def record_video(env, policy, out_directory, fps=30):\n",
    "    \"\"\"\n",
    "    Generate a replay video of the agent\n",
    "    :param env\n",
    "    :param Qtable: Qtable of our agent\n",
    "    :param out_directory\n",
    "    :param fps: how many frame per seconds (with taxi-v3 and frozenlake-v1 we use 1)\n",
    "    \"\"\"\n",
    "\n",
    "    images = []\n",
    "    done = False\n",
    "    state = env.reset()\n",
    "    img = env.render(mode=\"rgb_array\")\n",
    "    images.append(np.array(img))\n",
    "\n",
    "    while not done:\n",
    "        # Take the action (index) that have the maximum expected future reward given that state\n",
    "        action, _ = policy.act(state)\n",
    "        state, reward, done, info = env.step(action)  # We directly put next_state = state for recording logic  \n",
    "        img = env.render(mode=\"rgb_array\")\n",
    "        images.append(np.array(img))\n",
    "    \n",
    "    imageio.mimsave(out_directory, images, fps=fps)\n",
    "\n",
    "def push_to_hub(repo_id,\n",
    "                model,\n",
    "                hyperparameters,\n",
    "                eval_env,\n",
    "                video_fps=30\n",
    "                ):\n",
    "  \"\"\"\n",
    "  Evaluate, Generate a video and Upload a model to Hugging Face Hub.\n",
    "  This method does the complete pipeline:\n",
    "  - It evaluates the model\n",
    "  - It generates the model card\n",
    "  - It generates a replay video of the agent\n",
    "  - It pushes everything to the Hub\n",
    "\n",
    "  :param repo_id: repo_id: id of the model repository from the Hugging Face Hub\n",
    "  :param model: the pytorch model we want to save\n",
    "  :param hyperparameters: training hyperparameters\n",
    "  :param eval_env: evaluation environment\n",
    "  :param video_fps: how many frame per seconds to record our video replay\n",
    "  \"\"\"\n",
    "\n",
    "  _, repo_name = repo_id.split(\"/\")\n",
    "  api = HfApi()\n",
    "\n",
    "  # Step 1: Create the repo\n",
    "  repo_url = api.create_repo(\n",
    "        repo_id=repo_id,\n",
    "        exist_ok=True,\n",
    "  )\n",
    "\n",
    "  with tempfile.TemporaryDirectory() as tmpdirname:\n",
    "    local_directory = Path(tmpdirname)\n",
    "\n",
    "    # Step 2: Save the model\n",
    "    torch.save(model, local_directory / \"model.pt\")\n",
    "\n",
    "    # Step 3: Save the hyperparameters to JSON\n",
    "    with open(local_directory / \"hyperparameters.json\", \"w\") as outfile:\n",
    "      json.dump(hyperparameters, outfile)\n",
    "\n",
    "    # Step 4: Evaluate the model and build JSON\n",
    "    mean_reward, std_reward = evaluate_agent(eval_env,\n",
    "                                            hyperparameters[\"max_t\"],\n",
    "                                            hyperparameters[\"n_evaluation_episodes\"],\n",
    "                                            model)\n",
    "\n",
    "    # Get datetime\n",
    "    eval_datetime = datetime.datetime.now()\n",
    "    eval_form_datetime = eval_datetime.isoformat()\n",
    "\n",
    "    evaluate_data = {\n",
    "          \"env_id\": hyperparameters[\"env_id\"],\n",
    "          \"mean_reward\": mean_reward,\n",
    "          \"n_evaluation_episodes\": hyperparameters[\"n_evaluation_episodes\"],\n",
    "          \"eval_datetime\": eval_form_datetime,\n",
    "    }\n",
    "\n",
    "    # Write a JSON file\n",
    "    with open(local_directory / \"results.json\", \"w\") as outfile:\n",
    "        json.dump(evaluate_data, outfile)\n",
    "\n",
    "    # Step 5: Create the model card\n",
    "    env_name = hyperparameters[\"env_id\"]\n",
    "\n",
    "    metadata = {}\n",
    "    metadata[\"tags\"] = [\n",
    "          env_name,\n",
    "          \"reinforce\",\n",
    "          \"reinforcement-learning\",\n",
    "          \"custom-implementation\",\n",
    "          \"deep-rl-class\"\n",
    "      ]\n",
    "\n",
    "    # Add metrics\n",
    "    eval = metadata_eval_result(\n",
    "        model_pretty_name=repo_name,\n",
    "        task_pretty_name=\"reinforcement-learning\",\n",
    "        task_id=\"reinforcement-learning\",\n",
    "        metrics_pretty_name=\"mean_reward\",\n",
    "        metrics_id=\"mean_reward\",\n",
    "        metrics_value=f\"{mean_reward:.2f} +/- {std_reward:.2f}\",\n",
    "        dataset_pretty_name=env_name,\n",
    "        dataset_id=env_name,\n",
    "      )\n",
    "\n",
    "    # Merges both dictionaries\n",
    "    metadata = {**metadata, **eval}\n",
    "\n",
    "    model_card = f\"\"\"\n",
    "  # **Reinforce** Agent playing **{env_id}**\n",
    "\n",
    "  This is a trained model of a **Reinforce** agent playing **{env_id}** .\n",
    "\n",
    "  To learn to use this model and train yours check Unit 4 of the Deep Reinforcement Learning Course: https://huggingface.co/deep-rl-course/unit4/introduction\n",
    "\n",
    "  \"\"\"\n",
    "\n",
    "    readme_path = local_directory / \"README.md\"\n",
    "    readme = \"\"\n",
    "    if readme_path.exists():\n",
    "        with readme_path.open(\"r\", encoding=\"utf8\") as f:\n",
    "          readme = f.read()\n",
    "    else:\n",
    "      readme = model_card\n",
    "\n",
    "\n",
    "    with readme_path.open(\"w\", encoding=\"utf-8\") as f:\n",
    "      f.write(readme)\n",
    "\n",
    "    # Save our metrics to Readme metadata\n",
    "    metadata_save(readme_path, metadata)\n",
    "\n",
    "    # Step 6: Record a video\n",
    "    video_path =  local_directory / \"replay.mp4\"\n",
    "    record_video(env, model, video_path, video_fps)\n",
    "\n",
    "    # Step 7. Push everything to the Hub\n",
    "    api.upload_folder(\n",
    "          repo_id=repo_id,\n",
    "          folder_path=local_directory,\n",
    "          path_in_repo=\".\",\n",
    "    )\n",
    "\n",
    "    print(f\"Your model is pushed to the Hub. You can view your model here: {repo_url}\")"
   ]
  },
  {
   "cell_type": "code",
   "execution_count": 14,
   "id": "c1e8f231",
   "metadata": {
    "execution": {
     "iopub.execute_input": "2025-01-18T20:53:48.346225Z",
     "iopub.status.busy": "2025-01-18T20:53:48.345947Z",
     "iopub.status.idle": "2025-01-18T20:53:48.350189Z",
     "shell.execute_reply": "2025-01-18T20:53:48.349477Z"
    },
    "papermill": {
     "duration": 0.012436,
     "end_time": "2025-01-18T20:53:48.351863",
     "exception": false,
     "start_time": "2025-01-18T20:53:48.339427",
     "status": "completed"
    },
    "tags": []
   },
   "outputs": [],
   "source": [
    "pixelcopter_hyperparameters = {\n",
    "    \"h_size\": 128, \n",
    "    \"n_training_episodes\": 50000, #originally 50k\n",
    "    \"n_evaluation_episodes\": 10,\n",
    "    \"max_t\": 10000,\n",
    "    \"gamma\": 0.99,\n",
    "    \"lr\": 1e-4,\n",
    "    \"env_id\": env_id,\n",
    "    \"state_space\": s_size,\n",
    "    \"action_space\": a_size,\n",
    "}"
   ]
  },
  {
   "cell_type": "code",
   "execution_count": 15,
   "id": "5a096d93",
   "metadata": {
    "execution": {
     "iopub.execute_input": "2025-01-18T20:53:48.363916Z",
     "iopub.status.busy": "2025-01-18T20:53:48.363472Z",
     "iopub.status.idle": "2025-01-18T20:53:49.784124Z",
     "shell.execute_reply": "2025-01-18T20:53:49.783193Z"
    },
    "papermill": {
     "duration": 1.428862,
     "end_time": "2025-01-18T20:53:49.786233",
     "exception": false,
     "start_time": "2025-01-18T20:53:48.357371",
     "status": "completed"
    },
    "tags": []
   },
   "outputs": [],
   "source": [
    "pixelcopter_policy = Policy(\n",
    "    pixelcopter_hyperparameters[\"state_space\"],\n",
    "    pixelcopter_hyperparameters[\"action_space\"],\n",
    "    pixelcopter_hyperparameters[\"h_size\"],\n",
    ").to(device)\n",
    "\n",
    "pixelcopter_baseline = Value(\n",
    "    pixelcopter_hyperparameters[\"state_space\"],\n",
    "    pixelcopter_hyperparameters[\"h_size\"],\n",
    ").to(device)\n",
    "\n",
    "policy_optimizer = optim.Adam(pixelcopter_policy.parameters(), lr=pixelcopter_hyperparameters[\"lr\"])\n",
    "baseline_optimizer = optim.Adam(pixelcopter_baseline.parameters(), lr=pixelcopter_hyperparameters[\"lr\"])"
   ]
  },
  {
   "cell_type": "code",
   "execution_count": 16,
   "id": "b7fa813f",
   "metadata": {
    "execution": {
     "iopub.execute_input": "2025-01-18T20:53:49.799284Z",
     "iopub.status.busy": "2025-01-18T20:53:49.798457Z",
     "iopub.status.idle": "2025-01-18T21:02:03.858044Z",
     "shell.execute_reply": "2025-01-18T21:02:03.856694Z"
    },
    "papermill": {
     "duration": 494.068848,
     "end_time": "2025-01-18T21:02:03.860662",
     "exception": false,
     "start_time": "2025-01-18T20:53:49.791814",
     "status": "completed"
    },
    "tags": []
   },
   "outputs": [
    {
     "name": "stderr",
     "output_type": "stream",
     "text": [
      "/opt/conda/lib/python3.10/site-packages/gym/utils/passive_env_checker.py:174: UserWarning: \u001b[33mWARN: Future gym versions will require that `Env.reset` can be passed a `seed` instead of using `Env.seed` for resetting the environment random number generator.\u001b[0m\n",
      "  logger.warn(\n",
      "/opt/conda/lib/python3.10/site-packages/gym/utils/passive_env_checker.py:187: UserWarning: \u001b[33mWARN: Future gym versions will require that `Env.reset` can be passed `options` to allow the environment initialisation to be passed additional information.\u001b[0m\n",
      "  logger.warn(\n",
      "/opt/conda/lib/python3.10/site-packages/gym/utils/passive_env_checker.py:195: UserWarning: \u001b[33mWARN: The result returned by `env.reset()` was not a tuple of the form `(obs, info)`, where `obs` is a observation and `info` is a dictionary containing additional information. Actual type: `<class 'numpy.ndarray'>`\u001b[0m\n",
      "  logger.warn(\n",
      "/opt/conda/lib/python3.10/site-packages/gym/utils/passive_env_checker.py:219: DeprecationWarning: \u001b[33mWARN: Core environment is written in old step API which returns one bool instead of two. It is recommended to rewrite the environment with new step API. \u001b[0m\n",
      "  logger.deprecation(\n",
      "/opt/conda/lib/python3.10/site-packages/gym/utils/passive_env_checker.py:225: DeprecationWarning: `np.bool8` is a deprecated alias for `np.bool_`.  (Deprecated NumPy 1.24)\n",
      "  if not isinstance(done, (bool, np.bool8)):\n",
      "/opt/conda/lib/python3.10/site-packages/gym/utils/passive_env_checker.py:141: UserWarning: \u001b[33mWARN: The obs returned by the `step()` method was expecting numpy array dtype to be float32, actual type: float64\u001b[0m\n",
      "  logger.warn(\n",
      "/opt/conda/lib/python3.10/site-packages/gym/utils/passive_env_checker.py:165: UserWarning: \u001b[33mWARN: The obs returned by the `step()` method is not within the observation space.\u001b[0m\n",
      "  logger.warn(f\"{pre} is not within the observation space.\")\n"
     ]
    },
    {
     "name": "stdout",
     "output_type": "stream",
     "text": [
      "Episode 1000\tAverage Score: -5.00\n",
      "Episode 2000\tAverage Score: -5.00\n",
      "Episode 3000\tAverage Score: -5.00\n",
      "Episode 4000\tAverage Score: -5.00\n",
      "Episode 5000\tAverage Score: -5.00\n",
      "Episode 6000\tAverage Score: -5.00\n",
      "Episode 7000\tAverage Score: -5.00\n",
      "Episode 8000\tAverage Score: -5.00\n",
      "Episode 9000\tAverage Score: -5.00\n",
      "Episode 10000\tAverage Score: -5.00\n",
      "Episode 11000\tAverage Score: -5.00\n",
      "Episode 12000\tAverage Score: -5.00\n",
      "Episode 13000\tAverage Score: -5.00\n",
      "Episode 14000\tAverage Score: -5.00\n",
      "Episode 15000\tAverage Score: -5.00\n",
      "Episode 16000\tAverage Score: -5.00\n",
      "Episode 17000\tAverage Score: -5.00\n",
      "Episode 18000\tAverage Score: -5.00\n",
      "Episode 19000\tAverage Score: -5.00\n",
      "Episode 20000\tAverage Score: -5.00\n",
      "Episode 21000\tAverage Score: -5.00\n",
      "Episode 22000\tAverage Score: -5.00\n",
      "Episode 23000\tAverage Score: -5.00\n",
      "Episode 24000\tAverage Score: -5.00\n",
      "Episode 25000\tAverage Score: -5.00\n",
      "Episode 26000\tAverage Score: -5.00\n",
      "Episode 27000\tAverage Score: -5.00\n",
      "Episode 28000\tAverage Score: -5.00\n",
      "Episode 29000\tAverage Score: -5.00\n",
      "Episode 30000\tAverage Score: -5.00\n",
      "Episode 31000\tAverage Score: -5.00\n",
      "Episode 32000\tAverage Score: -5.00\n",
      "Episode 33000\tAverage Score: -5.00\n",
      "Episode 34000\tAverage Score: -5.00\n",
      "Episode 35000\tAverage Score: -5.00\n",
      "Episode 36000\tAverage Score: -5.00\n",
      "Episode 37000\tAverage Score: -5.00\n",
      "Episode 38000\tAverage Score: -5.00\n",
      "Episode 39000\tAverage Score: -5.00\n",
      "Episode 40000\tAverage Score: -5.00\n",
      "Episode 41000\tAverage Score: -5.00\n",
      "Episode 42000\tAverage Score: -5.00\n",
      "Episode 43000\tAverage Score: -5.00\n",
      "Episode 44000\tAverage Score: -5.00\n",
      "Episode 45000\tAverage Score: -5.00\n",
      "Episode 46000\tAverage Score: -5.00\n",
      "Episode 47000\tAverage Score: -5.00\n",
      "Episode 48000\tAverage Score: -5.00\n",
      "Episode 49000\tAverage Score: -5.00\n",
      "Episode 50000\tAverage Score: -5.00\n"
     ]
    }
   ],
   "source": [
    "scores = reinforce(\n",
    "    policy=pixelcopter_policy,\n",
    "    baseline=pixelcopter_baseline,\n",
    "    policy_optimizer=policy_optimizer,\n",
    "    baseline_optimizer=baseline_optimizer,\n",
    "    n_training_episodes=pixelcopter_hyperparameters[\"n_training_episodes\"],\n",
    "    max_t=pixelcopter_hyperparameters[\"max_t\"],\n",
    "    gamma=pixelcopter_hyperparameters[\"gamma\"],\n",
    "    print_every=1000,\n",
    ")"
   ]
  },
  {
   "cell_type": "code",
   "execution_count": null,
   "id": "5384970b",
   "metadata": {
    "execution": {
     "iopub.execute_input": "2025-01-18T21:02:03.887172Z",
     "iopub.status.busy": "2025-01-18T21:02:03.886712Z",
     "iopub.status.idle": "2025-01-18T21:02:03.990706Z",
     "shell.execute_reply": "2025-01-18T21:02:03.989850Z"
    },
    "papermill": {
     "duration": 0.118983,
     "end_time": "2025-01-18T21:02:03.992357",
     "exception": false,
     "start_time": "2025-01-18T21:02:03.873374",
     "status": "completed"
    },
    "tags": []
   },
   "outputs": [
    {
     "name": "stdout",
     "output_type": "stream",
     "text": [
      "The token has not been saved to the git credentials helper. Pass `add_to_git_credential=True` in this function directly or `--add-to-git-credential` if using via `huggingface-cli` if you want to set the git credential as well.\n",
      "Token is valid (permission: write).\n",
      "Your token has been saved to /root/.cache/huggingface/token\n",
      "Login successful\n"
     ]
    }
   ],
   "source": [
    "from huggingface_hub import notebook_login\n",
    "notebook_login()"
   ]
  },
  {
   "cell_type": "code",
   "execution_count": 18,
   "id": "af719506",
   "metadata": {
    "execution": {
     "iopub.execute_input": "2025-01-18T21:02:04.008151Z",
     "iopub.status.busy": "2025-01-18T21:02:04.007888Z",
     "iopub.status.idle": "2025-01-18T21:02:05.310577Z",
     "shell.execute_reply": "2025-01-18T21:02:05.309553Z"
    },
    "papermill": {
     "duration": 1.312591,
     "end_time": "2025-01-18T21:02:05.312391",
     "exception": false,
     "start_time": "2025-01-18T21:02:03.999800",
     "status": "completed"
    },
    "tags": []
   },
   "outputs": [
    {
     "name": "stderr",
     "output_type": "stream",
     "text": [
      "/opt/conda/lib/python3.10/site-packages/gym/utils/passive_env_checker.py:272: UserWarning: \u001b[33mWARN: No render modes was declared in the environment (env.metadata['render_modes'] is None or not defined), you may have trouble when calling `.render()`.\u001b[0m\n",
      "  logger.warn(\n"
     ]
    },
    {
     "data": {
      "application/vnd.jupyter.widget-view+json": {
       "model_id": "d7d4e34cd1d34fb7b8f409279fe756eb",
       "version_major": 2,
       "version_minor": 0
      },
      "text/plain": [
       "model.pt:   0%|          | 0.00/142k [00:00<?, ?B/s]"
      ]
     },
     "metadata": {},
     "output_type": "display_data"
    },
    {
     "name": "stdout",
     "output_type": "stream",
     "text": [
      "Your model is pushed to the Hub. You can view your model here: https://huggingface.co/wowthecoder/reinforce-pixelcopter\n"
     ]
    }
   ],
   "source": [
    "repo_id = \"wowthecoder/reinforce-pixelcopter\" \n",
    "push_to_hub(\n",
    "    repo_id,\n",
    "    pixelcopter_policy,  # The model we want to save\n",
    "    pixelcopter_hyperparameters,  # Hyperparameters\n",
    "    eval_env,  # Evaluation environment\n",
    "    video_fps=30\n",
    ")"
   ]
  }
 ],
 "metadata": {
  "kaggle": {
   "accelerator": "nvidiaTeslaT4",
   "dataSources": [],
   "dockerImageVersionId": 30787,
   "isGpuEnabled": true,
   "isInternetEnabled": true,
   "language": "python",
   "sourceType": "notebook"
  },
  "kernelspec": {
   "display_name": "Python 3",
   "language": "python",
   "name": "python3"
  },
  "language_info": {
   "codemirror_mode": {
    "name": "ipython",
    "version": 3
   },
   "file_extension": ".py",
   "mimetype": "text/x-python",
   "name": "python",
   "nbconvert_exporter": "python",
   "pygments_lexer": "ipython3",
   "version": "3.10.14"
  },
  "papermill": {
   "default_parameters": {},
   "duration": 552.909493,
   "end_time": "2025-01-18T21:02:10.539414",
   "environment_variables": {},
   "exception": null,
   "input_path": "__notebook__.ipynb",
   "output_path": "__notebook__.ipynb",
   "parameters": {},
   "start_time": "2025-01-18T20:52:57.629921",
   "version": "2.6.0"
  },
  "widgets": {
   "application/vnd.jupyter.widget-state+json": {
    "state": {
     "210ffacc0aa641edab80743caa788dc3": {
      "model_module": "@jupyter-widgets/base",
      "model_module_version": "1.2.0",
      "model_name": "LayoutModel",
      "state": {
       "_model_module": "@jupyter-widgets/base",
       "_model_module_version": "1.2.0",
       "_model_name": "LayoutModel",
       "_view_count": null,
       "_view_module": "@jupyter-widgets/base",
       "_view_module_version": "1.2.0",
       "_view_name": "LayoutView",
       "align_content": null,
       "align_items": null,
       "align_self": null,
       "border": null,
       "bottom": null,
       "display": null,
       "flex": null,
       "flex_flow": null,
       "grid_area": null,
       "grid_auto_columns": null,
       "grid_auto_flow": null,
       "grid_auto_rows": null,
       "grid_column": null,
       "grid_gap": null,
       "grid_row": null,
       "grid_template_areas": null,
       "grid_template_columns": null,
       "grid_template_rows": null,
       "height": null,
       "justify_content": null,
       "justify_items": null,
       "left": null,
       "margin": null,
       "max_height": null,
       "max_width": null,
       "min_height": null,
       "min_width": null,
       "object_fit": null,
       "object_position": null,
       "order": null,
       "overflow": null,
       "overflow_x": null,
       "overflow_y": null,
       "padding": null,
       "right": null,
       "top": null,
       "visibility": null,
       "width": null
      }
     },
     "32ba1de2b96c4cea910c5e6a4ebe7934": {
      "model_module": "@jupyter-widgets/base",
      "model_module_version": "1.2.0",
      "model_name": "LayoutModel",
      "state": {
       "_model_module": "@jupyter-widgets/base",
       "_model_module_version": "1.2.0",
       "_model_name": "LayoutModel",
       "_view_count": null,
       "_view_module": "@jupyter-widgets/base",
       "_view_module_version": "1.2.0",
       "_view_name": "LayoutView",
       "align_content": null,
       "align_items": null,
       "align_self": null,
       "border": null,
       "bottom": null,
       "display": null,
       "flex": null,
       "flex_flow": null,
       "grid_area": null,
       "grid_auto_columns": null,
       "grid_auto_flow": null,
       "grid_auto_rows": null,
       "grid_column": null,
       "grid_gap": null,
       "grid_row": null,
       "grid_template_areas": null,
       "grid_template_columns": null,
       "grid_template_rows": null,
       "height": null,
       "justify_content": null,
       "justify_items": null,
       "left": null,
       "margin": null,
       "max_height": null,
       "max_width": null,
       "min_height": null,
       "min_width": null,
       "object_fit": null,
       "object_position": null,
       "order": null,
       "overflow": null,
       "overflow_x": null,
       "overflow_y": null,
       "padding": null,
       "right": null,
       "top": null,
       "visibility": null,
       "width": null
      }
     },
     "49e815d0744d4cada365d76775fb2f24": {
      "model_module": "@jupyter-widgets/base",
      "model_module_version": "1.2.0",
      "model_name": "LayoutModel",
      "state": {
       "_model_module": "@jupyter-widgets/base",
       "_model_module_version": "1.2.0",
       "_model_name": "LayoutModel",
       "_view_count": null,
       "_view_module": "@jupyter-widgets/base",
       "_view_module_version": "1.2.0",
       "_view_name": "LayoutView",
       "align_content": null,
       "align_items": null,
       "align_self": null,
       "border": null,
       "bottom": null,
       "display": null,
       "flex": null,
       "flex_flow": null,
       "grid_area": null,
       "grid_auto_columns": null,
       "grid_auto_flow": null,
       "grid_auto_rows": null,
       "grid_column": null,
       "grid_gap": null,
       "grid_row": null,
       "grid_template_areas": null,
       "grid_template_columns": null,
       "grid_template_rows": null,
       "height": null,
       "justify_content": null,
       "justify_items": null,
       "left": null,
       "margin": null,
       "max_height": null,
       "max_width": null,
       "min_height": null,
       "min_width": null,
       "object_fit": null,
       "object_position": null,
       "order": null,
       "overflow": null,
       "overflow_x": null,
       "overflow_y": null,
       "padding": null,
       "right": null,
       "top": null,
       "visibility": null,
       "width": null
      }
     },
     "51c90cdcd6d449998bdfa6e1dcc236b0": {
      "model_module": "@jupyter-widgets/controls",
      "model_module_version": "1.5.0",
      "model_name": "FloatProgressModel",
      "state": {
       "_dom_classes": [],
       "_model_module": "@jupyter-widgets/controls",
       "_model_module_version": "1.5.0",
       "_model_name": "FloatProgressModel",
       "_view_count": null,
       "_view_module": "@jupyter-widgets/controls",
       "_view_module_version": "1.5.0",
       "_view_name": "ProgressView",
       "bar_style": "success",
       "description": "",
       "description_tooltip": null,
       "layout": "IPY_MODEL_49e815d0744d4cada365d76775fb2f24",
       "max": 141620,
       "min": 0,
       "orientation": "horizontal",
       "style": "IPY_MODEL_5cce32913fc54160b8cf2dcf051df2cf",
       "value": 141620
      }
     },
     "5a625284ca334b21a79256aa29fc7ec9": {
      "model_module": "@jupyter-widgets/controls",
      "model_module_version": "1.5.0",
      "model_name": "DescriptionStyleModel",
      "state": {
       "_model_module": "@jupyter-widgets/controls",
       "_model_module_version": "1.5.0",
       "_model_name": "DescriptionStyleModel",
       "_view_count": null,
       "_view_module": "@jupyter-widgets/base",
       "_view_module_version": "1.2.0",
       "_view_name": "StyleView",
       "description_width": ""
      }
     },
     "5cce32913fc54160b8cf2dcf051df2cf": {
      "model_module": "@jupyter-widgets/controls",
      "model_module_version": "1.5.0",
      "model_name": "ProgressStyleModel",
      "state": {
       "_model_module": "@jupyter-widgets/controls",
       "_model_module_version": "1.5.0",
       "_model_name": "ProgressStyleModel",
       "_view_count": null,
       "_view_module": "@jupyter-widgets/base",
       "_view_module_version": "1.2.0",
       "_view_name": "StyleView",
       "bar_color": null,
       "description_width": ""
      }
     },
     "62201267b687449f93bbb4bffe194c3f": {
      "model_module": "@jupyter-widgets/controls",
      "model_module_version": "1.5.0",
      "model_name": "DescriptionStyleModel",
      "state": {
       "_model_module": "@jupyter-widgets/controls",
       "_model_module_version": "1.5.0",
       "_model_name": "DescriptionStyleModel",
       "_view_count": null,
       "_view_module": "@jupyter-widgets/base",
       "_view_module_version": "1.2.0",
       "_view_name": "StyleView",
       "description_width": ""
      }
     },
     "bd20c92bf5a749b0aa9d71d87f97e440": {
      "model_module": "@jupyter-widgets/controls",
      "model_module_version": "1.5.0",
      "model_name": "HTMLModel",
      "state": {
       "_dom_classes": [],
       "_model_module": "@jupyter-widgets/controls",
       "_model_module_version": "1.5.0",
       "_model_name": "HTMLModel",
       "_view_count": null,
       "_view_module": "@jupyter-widgets/controls",
       "_view_module_version": "1.5.0",
       "_view_name": "HTMLView",
       "description": "",
       "description_tooltip": null,
       "layout": "IPY_MODEL_210ffacc0aa641edab80743caa788dc3",
       "placeholder": "​",
       "style": "IPY_MODEL_62201267b687449f93bbb4bffe194c3f",
       "value": "model.pt: 100%"
      }
     },
     "d7bc31448beb480d8d4daae6105cd72b": {
      "model_module": "@jupyter-widgets/controls",
      "model_module_version": "1.5.0",
      "model_name": "HTMLModel",
      "state": {
       "_dom_classes": [],
       "_model_module": "@jupyter-widgets/controls",
       "_model_module_version": "1.5.0",
       "_model_name": "HTMLModel",
       "_view_count": null,
       "_view_module": "@jupyter-widgets/controls",
       "_view_module_version": "1.5.0",
       "_view_name": "HTMLView",
       "description": "",
       "description_tooltip": null,
       "layout": "IPY_MODEL_32ba1de2b96c4cea910c5e6a4ebe7934",
       "placeholder": "​",
       "style": "IPY_MODEL_5a625284ca334b21a79256aa29fc7ec9",
       "value": " 142k/142k [00:00&lt;00:00, 721kB/s]"
      }
     },
     "d7d4e34cd1d34fb7b8f409279fe756eb": {
      "model_module": "@jupyter-widgets/controls",
      "model_module_version": "1.5.0",
      "model_name": "HBoxModel",
      "state": {
       "_dom_classes": [],
       "_model_module": "@jupyter-widgets/controls",
       "_model_module_version": "1.5.0",
       "_model_name": "HBoxModel",
       "_view_count": null,
       "_view_module": "@jupyter-widgets/controls",
       "_view_module_version": "1.5.0",
       "_view_name": "HBoxView",
       "box_style": "",
       "children": [
        "IPY_MODEL_bd20c92bf5a749b0aa9d71d87f97e440",
        "IPY_MODEL_51c90cdcd6d449998bdfa6e1dcc236b0",
        "IPY_MODEL_d7bc31448beb480d8d4daae6105cd72b"
       ],
       "layout": "IPY_MODEL_f645baccb4cb4525a9a6344c3192f556"
      }
     },
     "f645baccb4cb4525a9a6344c3192f556": {
      "model_module": "@jupyter-widgets/base",
      "model_module_version": "1.2.0",
      "model_name": "LayoutModel",
      "state": {
       "_model_module": "@jupyter-widgets/base",
       "_model_module_version": "1.2.0",
       "_model_name": "LayoutModel",
       "_view_count": null,
       "_view_module": "@jupyter-widgets/base",
       "_view_module_version": "1.2.0",
       "_view_name": "LayoutView",
       "align_content": null,
       "align_items": null,
       "align_self": null,
       "border": null,
       "bottom": null,
       "display": null,
       "flex": null,
       "flex_flow": null,
       "grid_area": null,
       "grid_auto_columns": null,
       "grid_auto_flow": null,
       "grid_auto_rows": null,
       "grid_column": null,
       "grid_gap": null,
       "grid_row": null,
       "grid_template_areas": null,
       "grid_template_columns": null,
       "grid_template_rows": null,
       "height": null,
       "justify_content": null,
       "justify_items": null,
       "left": null,
       "margin": null,
       "max_height": null,
       "max_width": null,
       "min_height": null,
       "min_width": null,
       "object_fit": null,
       "object_position": null,
       "order": null,
       "overflow": null,
       "overflow_x": null,
       "overflow_y": null,
       "padding": null,
       "right": null,
       "top": null,
       "visibility": null,
       "width": null
      }
     }
    },
    "version_major": 2,
    "version_minor": 0
   }
  }
 },
 "nbformat": 4,
 "nbformat_minor": 5
}
