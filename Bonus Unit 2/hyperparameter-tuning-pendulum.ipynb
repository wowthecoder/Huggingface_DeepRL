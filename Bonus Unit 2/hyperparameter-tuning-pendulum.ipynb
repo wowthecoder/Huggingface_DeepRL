{
 "cells": [
  {
   "cell_type": "markdown",
   "id": "dd9ba347",
   "metadata": {
    "id": "-Bp6cWqrOucU",
    "papermill": {
     "duration": 0.004791,
     "end_time": "2024-11-21T12:33:41.003303",
     "exception": false,
     "start_time": "2024-11-21T12:33:40.998512",
     "status": "completed"
    },
    "tags": []
   },
   "source": [
    "# Setting up"
   ]
  },
  {
   "cell_type": "code",
   "execution_count": 1,
   "id": "e9463f06",
   "metadata": {
    "execution": {
     "iopub.execute_input": "2024-11-21T12:33:41.013178Z",
     "iopub.status.busy": "2024-11-21T12:33:41.012543Z",
     "iopub.status.idle": "2024-11-21T12:33:48.783407Z",
     "shell.execute_reply": "2024-11-21T12:33:48.781994Z"
    },
    "id": "0t9gD9D9PzQR",
    "outputId": "c4df78f4-f1f6-4d05-e087-40d9b5028f6f",
    "papermill": {
     "duration": 7.77884,
     "end_time": "2024-11-21T12:33:48.786234",
     "exception": false,
     "start_time": "2024-11-21T12:33:41.007394",
     "status": "completed"
    },
    "tags": []
   },
   "outputs": [
    {
     "name": "stdout",
     "output_type": "stream",
     "text": [
      "\r\n",
      "\r\n",
      "\r\n",
      "cmake is already the newest version (3.22.1-1ubuntu1.22.04.2).\r\n",
      "Suggested packages:\r\n",
      "  swig-doc swig-examples swig4.0-examples swig4.0-doc\r\n",
      "The following NEW packages will be installed:\r\n",
      "  swig swig4.0\r\n",
      "0 upgraded, 2 newly installed, 0 to remove and 68 not upgraded.\r\n",
      "Need to get 1116 kB of archives.\r\n",
      "After this operation, 5542 kB of additional disk space will be used.\r\n",
      "Get:1 http://archive.ubuntu.com/ubuntu jammy/universe amd64 swig4.0 amd64 4.0.2-1ubuntu1 [1110 kB]\r\n",
      "Get:2 http://archive.ubuntu.com/ubuntu jammy/universe amd64 swig all 4.0.2-1ubuntu1 [5632 B]\r\n",
      "Fetched 1116 kB in 2s (566 kB/s)\r\n",
      "\n",
      "\u001b7\u001b[0;23r\u001b8\u001b[1ASelecting previously unselected package swig4.0.\r\n",
      "(Reading database ... 122996 files and directories currently installed.)\r\n",
      "Preparing to unpack .../swig4.0_4.0.2-1ubuntu1_amd64.deb ...\r\n",
      "\u001b7\u001b[24;0f\u001b[42m\u001b[30mProgress: [  0%]\u001b[49m\u001b[39m [..........................................................] \u001b8\u001b7\u001b[24;0f\u001b[42m\u001b[30mProgress: [ 11%]\u001b[49m\u001b[39m [######....................................................] \u001b8Unpacking swig4.0 (4.0.2-1ubuntu1) ...\r\n",
      "\u001b7\u001b[24;0f\u001b[42m\u001b[30mProgress: [ 22%]\u001b[49m\u001b[39m [############..............................................] \u001b8Selecting previously unselected package swig.\r\n",
      "Preparing to unpack .../swig_4.0.2-1ubuntu1_all.deb ...\r\n",
      "\u001b7\u001b[24;0f\u001b[42m\u001b[30mProgress: [ 33%]\u001b[49m\u001b[39m [###################.......................................] \u001b8Unpacking swig (4.0.2-1ubuntu1) ...\r\n",
      "\u001b7\u001b[24;0f\u001b[42m\u001b[30mProgress: [ 44%]\u001b[49m\u001b[39m [#########################.................................] \u001b8Setting up swig4.0 (4.0.2-1ubuntu1) ...\r\n",
      "\u001b7\u001b[24;0f\u001b[42m\u001b[30mProgress: [ 56%]\u001b[49m\u001b[39m [################################..........................] \u001b8\u001b7\u001b[24;0f\u001b[42m\u001b[30mProgress: [ 67%]\u001b[49m\u001b[39m [######################################....................] \u001b8Setting up swig (4.0.2-1ubuntu1) ...\r\n",
      "\u001b7\u001b[24;0f\u001b[42m\u001b[30mProgress: [ 78%]\u001b[49m\u001b[39m [#############################################.............] \u001b8\u001b7\u001b[24;0f\u001b[42m\u001b[30mProgress: [ 89%]\u001b[49m\u001b[39m [###################################################.......] \u001b8Processing triggers for man-db (2.10.2-1) ...\r\n",
      "\r\n",
      "\u001b7\u001b[0;24r\u001b8\u001b[1A\u001b[J"
     ]
    }
   ],
   "source": [
    "!apt install swig cmake"
   ]
  },
  {
   "cell_type": "code",
   "execution_count": 2,
   "id": "bedfea08",
   "metadata": {
    "execution": {
     "iopub.execute_input": "2024-11-21T12:33:48.806723Z",
     "iopub.status.busy": "2024-11-21T12:33:48.806195Z",
     "iopub.status.idle": "2024-11-21T12:34:20.994852Z",
     "shell.execute_reply": "2024-11-21T12:34:20.994007Z"
    },
    "id": "sPxqnFNMQLpd",
    "outputId": "56ecce21-da21-40a8-e933-55f0133c7676",
    "papermill": {
     "duration": 32.200865,
     "end_time": "2024-11-21T12:34:20.997004",
     "exception": false,
     "start_time": "2024-11-21T12:33:48.796139",
     "status": "completed"
    },
    "tags": []
   },
   "outputs": [
    {
     "name": "stdout",
     "output_type": "stream",
     "text": [
      "Requirement already satisfied: stable-baselines3[extra] in /opt/conda/lib/python3.10/site-packages (2.1.0)\r\n",
      "Requirement already satisfied: gymnasium<0.30,>=0.28.1 in /opt/conda/lib/python3.10/site-packages (from stable-baselines3[extra]) (0.29.0)\r\n",
      "Requirement already satisfied: numpy>=1.20 in /opt/conda/lib/python3.10/site-packages (from stable-baselines3[extra]) (1.26.4)\r\n",
      "Requirement already satisfied: torch>=1.13 in /opt/conda/lib/python3.10/site-packages (from stable-baselines3[extra]) (2.4.0)\r\n",
      "Requirement already satisfied: cloudpickle in /opt/conda/lib/python3.10/site-packages (from stable-baselines3[extra]) (3.0.0)\r\n",
      "Requirement already satisfied: pandas in /opt/conda/lib/python3.10/site-packages (from stable-baselines3[extra]) (2.2.2)\r\n",
      "Requirement already satisfied: matplotlib in /opt/conda/lib/python3.10/site-packages (from stable-baselines3[extra]) (3.7.5)\r\n",
      "Requirement already satisfied: opencv-python in /opt/conda/lib/python3.10/site-packages (from stable-baselines3[extra]) (4.10.0.84)\r\n",
      "Collecting pygame (from stable-baselines3[extra])\r\n",
      "  Downloading pygame-2.6.1-cp310-cp310-manylinux_2_17_x86_64.manylinux2014_x86_64.whl.metadata (12 kB)\r\n",
      "Requirement already satisfied: tensorboard>=2.9.1 in /opt/conda/lib/python3.10/site-packages (from stable-baselines3[extra]) (2.16.2)\r\n",
      "Requirement already satisfied: psutil in /opt/conda/lib/python3.10/site-packages (from stable-baselines3[extra]) (5.9.3)\r\n",
      "Requirement already satisfied: tqdm in /opt/conda/lib/python3.10/site-packages (from stable-baselines3[extra]) (4.66.4)\r\n",
      "Requirement already satisfied: rich in /opt/conda/lib/python3.10/site-packages (from stable-baselines3[extra]) (13.7.1)\r\n",
      "Collecting shimmy~=1.1.0 (from shimmy[atari]~=1.1.0; extra == \"extra\"->stable-baselines3[extra])\r\n",
      "  Downloading Shimmy-1.1.0-py3-none-any.whl.metadata (3.3 kB)\r\n",
      "Requirement already satisfied: pillow in /opt/conda/lib/python3.10/site-packages (from stable-baselines3[extra]) (10.3.0)\r\n",
      "Collecting autorom~=0.6.1 (from autorom[accept-rom-license]~=0.6.1; extra == \"extra\"->stable-baselines3[extra])\r\n",
      "  Downloading AutoROM-0.6.1-py3-none-any.whl.metadata (2.4 kB)\r\n",
      "Requirement already satisfied: click in /opt/conda/lib/python3.10/site-packages (from autorom~=0.6.1->autorom[accept-rom-license]~=0.6.1; extra == \"extra\"->stable-baselines3[extra]) (8.1.7)\r\n",
      "Requirement already satisfied: requests in /opt/conda/lib/python3.10/site-packages (from autorom~=0.6.1->autorom[accept-rom-license]~=0.6.1; extra == \"extra\"->stable-baselines3[extra]) (2.32.3)\r\n",
      "Collecting AutoROM.accept-rom-license (from autorom[accept-rom-license]~=0.6.1; extra == \"extra\"->stable-baselines3[extra])\r\n",
      "  Downloading AutoROM.accept-rom-license-0.6.1.tar.gz (434 kB)\r\n",
      "\u001b[2K     \u001b[90m━━━━━━━━━━━━━━━━━━━━━━━━━━━━━━━━━━━━━━━\u001b[0m \u001b[32m434.7/434.7 kB\u001b[0m \u001b[31m7.5 MB/s\u001b[0m eta \u001b[36m0:00:00\u001b[0m\r\n",
      "\u001b[?25h  Installing build dependencies ... \u001b[?25l-\b \b\\\b \b|\b \b/\b \b-\b \b\\\b \b|\b \b/\b \b-\b \b\\\b \b|\b \b/\b \bdone\r\n",
      "\u001b[?25h  Getting requirements to build wheel ... \u001b[?25l-\b \bdone\r\n",
      "\u001b[?25h  Preparing metadata (pyproject.toml) ... \u001b[?25l-\b \bdone\r\n",
      "\u001b[?25hRequirement already satisfied: typing-extensions>=4.3.0 in /opt/conda/lib/python3.10/site-packages (from gymnasium<0.30,>=0.28.1->stable-baselines3[extra]) (4.12.2)\r\n",
      "Requirement already satisfied: farama-notifications>=0.0.1 in /opt/conda/lib/python3.10/site-packages (from gymnasium<0.30,>=0.28.1->stable-baselines3[extra]) (0.0.4)\r\n",
      "Collecting ale-py~=0.8.1 (from shimmy[atari]~=1.1.0; extra == \"extra\"->stable-baselines3[extra])\r\n",
      "  Downloading ale_py-0.8.1-cp310-cp310-manylinux_2_17_x86_64.manylinux2014_x86_64.whl.metadata (8.1 kB)\r\n",
      "Requirement already satisfied: absl-py>=0.4 in /opt/conda/lib/python3.10/site-packages (from tensorboard>=2.9.1->stable-baselines3[extra]) (1.4.0)\r\n",
      "Requirement already satisfied: grpcio>=1.48.2 in /opt/conda/lib/python3.10/site-packages (from tensorboard>=2.9.1->stable-baselines3[extra]) (1.62.2)\r\n",
      "Requirement already satisfied: markdown>=2.6.8 in /opt/conda/lib/python3.10/site-packages (from tensorboard>=2.9.1->stable-baselines3[extra]) (3.6)\r\n",
      "Requirement already satisfied: protobuf!=4.24.0,>=3.19.6 in /opt/conda/lib/python3.10/site-packages (from tensorboard>=2.9.1->stable-baselines3[extra]) (3.20.3)\r\n",
      "Requirement already satisfied: setuptools>=41.0.0 in /opt/conda/lib/python3.10/site-packages (from tensorboard>=2.9.1->stable-baselines3[extra]) (70.0.0)\r\n",
      "Requirement already satisfied: six>1.9 in /opt/conda/lib/python3.10/site-packages (from tensorboard>=2.9.1->stable-baselines3[extra]) (1.16.0)\r\n",
      "Requirement already satisfied: tensorboard-data-server<0.8.0,>=0.7.0 in /opt/conda/lib/python3.10/site-packages (from tensorboard>=2.9.1->stable-baselines3[extra]) (0.7.2)\r\n",
      "Requirement already satisfied: werkzeug>=1.0.1 in /opt/conda/lib/python3.10/site-packages (from tensorboard>=2.9.1->stable-baselines3[extra]) (3.0.4)\r\n",
      "Requirement already satisfied: filelock in /opt/conda/lib/python3.10/site-packages (from torch>=1.13->stable-baselines3[extra]) (3.15.1)\r\n",
      "Requirement already satisfied: sympy in /opt/conda/lib/python3.10/site-packages (from torch>=1.13->stable-baselines3[extra]) (1.13.3)\r\n",
      "Requirement already satisfied: networkx in /opt/conda/lib/python3.10/site-packages (from torch>=1.13->stable-baselines3[extra]) (3.3)\r\n",
      "Requirement already satisfied: jinja2 in /opt/conda/lib/python3.10/site-packages (from torch>=1.13->stable-baselines3[extra]) (3.1.4)\r\n",
      "Requirement already satisfied: fsspec in /opt/conda/lib/python3.10/site-packages (from torch>=1.13->stable-baselines3[extra]) (2024.6.1)\r\n",
      "Requirement already satisfied: contourpy>=1.0.1 in /opt/conda/lib/python3.10/site-packages (from matplotlib->stable-baselines3[extra]) (1.2.1)\r\n",
      "Requirement already satisfied: cycler>=0.10 in /opt/conda/lib/python3.10/site-packages (from matplotlib->stable-baselines3[extra]) (0.12.1)\r\n",
      "Requirement already satisfied: fonttools>=4.22.0 in /opt/conda/lib/python3.10/site-packages (from matplotlib->stable-baselines3[extra]) (4.53.0)\r\n",
      "Requirement already satisfied: kiwisolver>=1.0.1 in /opt/conda/lib/python3.10/site-packages (from matplotlib->stable-baselines3[extra]) (1.4.5)\r\n",
      "Requirement already satisfied: packaging>=20.0 in /opt/conda/lib/python3.10/site-packages (from matplotlib->stable-baselines3[extra]) (21.3)\r\n",
      "Requirement already satisfied: pyparsing>=2.3.1 in /opt/conda/lib/python3.10/site-packages (from matplotlib->stable-baselines3[extra]) (3.1.2)\r\n",
      "Requirement already satisfied: python-dateutil>=2.7 in /opt/conda/lib/python3.10/site-packages (from matplotlib->stable-baselines3[extra]) (2.9.0.post0)\r\n",
      "Requirement already satisfied: pytz>=2020.1 in /opt/conda/lib/python3.10/site-packages (from pandas->stable-baselines3[extra]) (2024.1)\r\n",
      "Requirement already satisfied: tzdata>=2022.7 in /opt/conda/lib/python3.10/site-packages (from pandas->stable-baselines3[extra]) (2024.1)\r\n",
      "Requirement already satisfied: markdown-it-py>=2.2.0 in /opt/conda/lib/python3.10/site-packages (from rich->stable-baselines3[extra]) (3.0.0)\r\n",
      "Requirement already satisfied: pygments<3.0.0,>=2.13.0 in /opt/conda/lib/python3.10/site-packages (from rich->stable-baselines3[extra]) (2.18.0)\r\n",
      "Requirement already satisfied: importlib-resources in /opt/conda/lib/python3.10/site-packages (from ale-py~=0.8.1->shimmy[atari]~=1.1.0; extra == \"extra\"->stable-baselines3[extra]) (6.4.0)\r\n",
      "Requirement already satisfied: mdurl~=0.1 in /opt/conda/lib/python3.10/site-packages (from markdown-it-py>=2.2.0->rich->stable-baselines3[extra]) (0.1.2)\r\n",
      "Requirement already satisfied: MarkupSafe>=2.1.1 in /opt/conda/lib/python3.10/site-packages (from werkzeug>=1.0.1->tensorboard>=2.9.1->stable-baselines3[extra]) (2.1.5)\r\n",
      "Requirement already satisfied: charset-normalizer<4,>=2 in /opt/conda/lib/python3.10/site-packages (from requests->autorom~=0.6.1->autorom[accept-rom-license]~=0.6.1; extra == \"extra\"->stable-baselines3[extra]) (3.3.2)\r\n",
      "Requirement already satisfied: idna<4,>=2.5 in /opt/conda/lib/python3.10/site-packages (from requests->autorom~=0.6.1->autorom[accept-rom-license]~=0.6.1; extra == \"extra\"->stable-baselines3[extra]) (3.7)\r\n",
      "Requirement already satisfied: urllib3<3,>=1.21.1 in /opt/conda/lib/python3.10/site-packages (from requests->autorom~=0.6.1->autorom[accept-rom-license]~=0.6.1; extra == \"extra\"->stable-baselines3[extra]) (1.26.18)\r\n",
      "Requirement already satisfied: certifi>=2017.4.17 in /opt/conda/lib/python3.10/site-packages (from requests->autorom~=0.6.1->autorom[accept-rom-license]~=0.6.1; extra == \"extra\"->stable-baselines3[extra]) (2024.8.30)\r\n",
      "Requirement already satisfied: mpmath<1.4,>=1.1.0 in /opt/conda/lib/python3.10/site-packages (from sympy->torch>=1.13->stable-baselines3[extra]) (1.3.0)\r\n",
      "Downloading AutoROM-0.6.1-py3-none-any.whl (9.4 kB)\r\n",
      "Downloading Shimmy-1.1.0-py3-none-any.whl (37 kB)\r\n",
      "Downloading pygame-2.6.1-cp310-cp310-manylinux_2_17_x86_64.manylinux2014_x86_64.whl (14.0 MB)\r\n",
      "\u001b[2K   \u001b[90m━━━━━━━━━━━━━━━━━━━━━━━━━━━━━━━━━━━━━━━━\u001b[0m \u001b[32m14.0/14.0 MB\u001b[0m \u001b[31m86.1 MB/s\u001b[0m eta \u001b[36m0:00:00\u001b[0m\r\n",
      "\u001b[?25hDownloading ale_py-0.8.1-cp310-cp310-manylinux_2_17_x86_64.manylinux2014_x86_64.whl (1.7 MB)\r\n",
      "\u001b[2K   \u001b[90m━━━━━━━━━━━━━━━━━━━━━━━━━━━━━━━━━━━━━━━━\u001b[0m \u001b[32m1.7/1.7 MB\u001b[0m \u001b[31m65.5 MB/s\u001b[0m eta \u001b[36m0:00:00\u001b[0m\r\n",
      "\u001b[?25hBuilding wheels for collected packages: AutoROM.accept-rom-license\r\n",
      "  Building wheel for AutoROM.accept-rom-license (pyproject.toml) ... \u001b[?25l-\b \b\\\b \bdone\r\n",
      "\u001b[?25h  Created wheel for AutoROM.accept-rom-license: filename=AutoROM.accept_rom_license-0.6.1-py3-none-any.whl size=446667 sha256=5132de4fb967e4e0793a3bab9a8413e38d6ce46abb5c67e8dbb04c40c7ca2399\r\n",
      "  Stored in directory: /root/.cache/pip/wheels/6b/1b/ef/a43ff1a2f1736d5711faa1ba4c1f61be1131b8899e6a057811\r\n",
      "Successfully built AutoROM.accept-rom-license\r\n",
      "Installing collected packages: pygame, ale-py, shimmy, AutoROM.accept-rom-license, autorom\r\n",
      "  Attempting uninstall: shimmy\r\n",
      "    Found existing installation: Shimmy 1.3.0\r\n",
      "    Uninstalling Shimmy-1.3.0:\r\n",
      "      Successfully uninstalled Shimmy-1.3.0\r\n",
      "\u001b[31mERROR: pip's dependency resolver does not currently take into account all the packages that are installed. This behaviour is the source of the following dependency conflicts.\r\n",
      "kaggle-environments 1.14.15 requires shimmy>=1.2.1, but you have shimmy 1.1.0 which is incompatible.\u001b[0m\u001b[31m\r\n",
      "\u001b[0mSuccessfully installed AutoROM.accept-rom-license-0.6.1 ale-py-0.8.1 autorom-0.6.1 pygame-2.6.1 shimmy-1.1.0\r\n",
      "Collecting huggingface_sb3\r\n",
      "  Downloading huggingface_sb3-3.0-py3-none-any.whl.metadata (6.3 kB)\r\n",
      "Requirement already satisfied: huggingface-hub~=0.8 in /opt/conda/lib/python3.10/site-packages (from huggingface_sb3) (0.25.1)\r\n",
      "Requirement already satisfied: pyyaml~=6.0 in /opt/conda/lib/python3.10/site-packages (from huggingface_sb3) (6.0.2)\r\n",
      "Requirement already satisfied: wasabi in /opt/conda/lib/python3.10/site-packages (from huggingface_sb3) (1.1.2)\r\n",
      "Requirement already satisfied: numpy in /opt/conda/lib/python3.10/site-packages (from huggingface_sb3) (1.26.4)\r\n",
      "Requirement already satisfied: cloudpickle>=1.6 in /opt/conda/lib/python3.10/site-packages (from huggingface_sb3) (3.0.0)\r\n",
      "Requirement already satisfied: filelock in /opt/conda/lib/python3.10/site-packages (from huggingface-hub~=0.8->huggingface_sb3) (3.15.1)\r\n",
      "Requirement already satisfied: fsspec>=2023.5.0 in /opt/conda/lib/python3.10/site-packages (from huggingface-hub~=0.8->huggingface_sb3) (2024.6.1)\r\n",
      "Requirement already satisfied: packaging>=20.9 in /opt/conda/lib/python3.10/site-packages (from huggingface-hub~=0.8->huggingface_sb3) (21.3)\r\n",
      "Requirement already satisfied: requests in /opt/conda/lib/python3.10/site-packages (from huggingface-hub~=0.8->huggingface_sb3) (2.32.3)\r\n",
      "Requirement already satisfied: tqdm>=4.42.1 in /opt/conda/lib/python3.10/site-packages (from huggingface-hub~=0.8->huggingface_sb3) (4.66.4)\r\n",
      "Requirement already satisfied: typing-extensions>=3.7.4.3 in /opt/conda/lib/python3.10/site-packages (from huggingface-hub~=0.8->huggingface_sb3) (4.12.2)\r\n",
      "Requirement already satisfied: pyparsing!=3.0.5,>=2.0.2 in /opt/conda/lib/python3.10/site-packages (from packaging>=20.9->huggingface-hub~=0.8->huggingface_sb3) (3.1.2)\r\n",
      "Requirement already satisfied: charset-normalizer<4,>=2 in /opt/conda/lib/python3.10/site-packages (from requests->huggingface-hub~=0.8->huggingface_sb3) (3.3.2)\r\n",
      "Requirement already satisfied: idna<4,>=2.5 in /opt/conda/lib/python3.10/site-packages (from requests->huggingface-hub~=0.8->huggingface_sb3) (3.7)\r\n",
      "Requirement already satisfied: urllib3<3,>=1.21.1 in /opt/conda/lib/python3.10/site-packages (from requests->huggingface-hub~=0.8->huggingface_sb3) (1.26.18)\r\n",
      "Requirement already satisfied: certifi>=2017.4.17 in /opt/conda/lib/python3.10/site-packages (from requests->huggingface-hub~=0.8->huggingface_sb3) (2024.8.30)\r\n",
      "Downloading huggingface_sb3-3.0-py3-none-any.whl (9.7 kB)\r\n",
      "Installing collected packages: huggingface_sb3\r\n",
      "Successfully installed huggingface_sb3-3.0\r\n"
     ]
    }
   ],
   "source": [
    "!pip install stable-baselines3[extra]\n",
    "!pip install huggingface_sb3"
   ]
  },
  {
   "cell_type": "code",
   "execution_count": 3,
   "id": "22971a44",
   "metadata": {
    "execution": {
     "iopub.execute_input": "2024-11-21T12:34:21.016673Z",
     "iopub.status.busy": "2024-11-21T12:34:21.016407Z",
     "iopub.status.idle": "2024-11-21T12:34:28.954144Z",
     "shell.execute_reply": "2024-11-21T12:34:28.953330Z"
    },
    "id": "6kTgi0C4U8Ew",
    "outputId": "05a6837a-e5bc-4b4f-fe14-04f95b6d2acd",
    "papermill": {
     "duration": 7.949089,
     "end_time": "2024-11-21T12:34:28.956168",
     "exception": false,
     "start_time": "2024-11-21T12:34:21.007079",
     "status": "completed"
    },
    "tags": []
   },
   "outputs": [
    {
     "name": "stdout",
     "output_type": "stream",
     "text": [
      "Requirement already satisfied: optuna in /opt/conda/lib/python3.10/site-packages (4.0.0)\r\n",
      "Requirement already satisfied: alembic>=1.5.0 in /opt/conda/lib/python3.10/site-packages (from optuna) (1.13.3)\r\n",
      "Requirement already satisfied: colorlog in /opt/conda/lib/python3.10/site-packages (from optuna) (6.8.2)\r\n",
      "Requirement already satisfied: numpy in /opt/conda/lib/python3.10/site-packages (from optuna) (1.26.4)\r\n",
      "Requirement already satisfied: packaging>=20.0 in /opt/conda/lib/python3.10/site-packages (from optuna) (21.3)\r\n",
      "Requirement already satisfied: sqlalchemy>=1.3.0 in /opt/conda/lib/python3.10/site-packages (from optuna) (2.0.30)\r\n",
      "Requirement already satisfied: tqdm in /opt/conda/lib/python3.10/site-packages (from optuna) (4.66.4)\r\n",
      "Requirement already satisfied: PyYAML in /opt/conda/lib/python3.10/site-packages (from optuna) (6.0.2)\r\n",
      "Requirement already satisfied: Mako in /opt/conda/lib/python3.10/site-packages (from alembic>=1.5.0->optuna) (1.3.5)\r\n",
      "Requirement already satisfied: typing-extensions>=4 in /opt/conda/lib/python3.10/site-packages (from alembic>=1.5.0->optuna) (4.12.2)\r\n",
      "Requirement already satisfied: pyparsing!=3.0.5,>=2.0.2 in /opt/conda/lib/python3.10/site-packages (from packaging>=20.0->optuna) (3.1.2)\r\n",
      "Requirement already satisfied: greenlet!=0.4.17 in /opt/conda/lib/python3.10/site-packages (from sqlalchemy>=1.3.0->optuna) (3.0.3)\r\n",
      "Requirement already satisfied: MarkupSafe>=0.9.2 in /opt/conda/lib/python3.10/site-packages (from Mako->alembic>=1.5.0->optuna) (2.1.5)\r\n"
     ]
    }
   ],
   "source": [
    "!pip install optuna"
   ]
  },
  {
   "cell_type": "markdown",
   "id": "b9193483",
   "metadata": {
    "id": "3hLUhj6FPwA9",
    "papermill": {
     "duration": 0.008242,
     "end_time": "2024-11-21T12:34:28.973357",
     "exception": false,
     "start_time": "2024-11-21T12:34:28.965115",
     "status": "completed"
    },
    "tags": []
   },
   "source": [
    "# Create a virtual display"
   ]
  },
  {
   "cell_type": "code",
   "execution_count": 4,
   "id": "bc24607c",
   "metadata": {
    "execution": {
     "iopub.execute_input": "2024-11-21T12:34:28.992008Z",
     "iopub.status.busy": "2024-11-21T12:34:28.991224Z",
     "iopub.status.idle": "2024-11-21T12:34:44.557821Z",
     "shell.execute_reply": "2024-11-21T12:34:44.556981Z"
    },
    "id": "OUbhXgSvN97n",
    "outputId": "7d3645ce-7e47-4558-c023-4074bea6fefb",
    "papermill": {
     "duration": 15.578252,
     "end_time": "2024-11-21T12:34:44.559944",
     "exception": false,
     "start_time": "2024-11-21T12:34:28.981692",
     "status": "completed"
    },
    "tags": []
   },
   "outputs": [
    {
     "name": "stdout",
     "output_type": "stream",
     "text": [
      "\r\n",
      "\r\n",
      "\r\n",
      "\u001b[1;31mE: \u001b[0mUnable to locate package python-opengl\u001b[0m\r\n",
      "\r\n",
      "\r\n",
      "\r\n",
      "ffmpeg is already the newest version (7:4.4.2-0ubuntu0.22.04.1).\r\n",
      "0 upgraded, 0 newly installed, 0 to remove and 68 not upgraded.\r\n",
      "\r\n",
      "\r\n",
      "\r\n",
      "xvfb is already the newest version (2:21.1.4-2ubuntu1.7~22.04.11).\r\n",
      "0 upgraded, 0 newly installed, 0 to remove and 68 not upgraded.\r\n",
      "Collecting pyvirtualdisplay\r\n",
      "  Downloading PyVirtualDisplay-3.0-py3-none-any.whl.metadata (943 bytes)\r\n",
      "Downloading PyVirtualDisplay-3.0-py3-none-any.whl (15 kB)\r\n",
      "Installing collected packages: pyvirtualdisplay\r\n",
      "Successfully installed pyvirtualdisplay-3.0\r\n"
     ]
    }
   ],
   "source": [
    "!apt install python-opengl\n",
    "!apt install ffmpeg\n",
    "!apt install xvfb\n",
    "!pip3 install pyvirtualdisplay"
   ]
  },
  {
   "cell_type": "code",
   "execution_count": 5,
   "id": "cfe0be00",
   "metadata": {
    "execution": {
     "iopub.execute_input": "2024-11-21T12:34:44.583672Z",
     "iopub.status.busy": "2024-11-21T12:34:44.582996Z",
     "iopub.status.idle": "2024-11-21T12:34:45.180797Z",
     "shell.execute_reply": "2024-11-21T12:34:45.179908Z"
    },
    "id": "-8vTL-PsP0Ry",
    "outputId": "7621e467-77e3-479b-d570-3916906b5549",
    "papermill": {
     "duration": 0.611451,
     "end_time": "2024-11-21T12:34:45.182567",
     "exception": false,
     "start_time": "2024-11-21T12:34:44.571116",
     "status": "completed"
    },
    "tags": []
   },
   "outputs": [
    {
     "data": {
      "text/plain": [
       "<pyvirtualdisplay.display.Display at 0x7953a091d360>"
      ]
     },
     "execution_count": 5,
     "metadata": {},
     "output_type": "execute_result"
    }
   ],
   "source": [
    "# Virtual display\n",
    "from pyvirtualdisplay import Display\n",
    "\n",
    "virtual_display = Display(visible=0, size=(1400, 900))\n",
    "virtual_display.start()"
   ]
  },
  {
   "cell_type": "markdown",
   "id": "4716713a",
   "metadata": {
    "id": "CnHfC2UrUeFL",
    "papermill": {
     "duration": 0.010213,
     "end_time": "2024-11-21T12:34:45.203842",
     "exception": false,
     "start_time": "2024-11-21T12:34:45.193629",
     "status": "completed"
    },
    "tags": []
   },
   "source": [
    "# Imports"
   ]
  },
  {
   "cell_type": "code",
   "execution_count": 6,
   "id": "20205b0d",
   "metadata": {
    "execution": {
     "iopub.execute_input": "2024-11-21T12:34:45.225599Z",
     "iopub.status.busy": "2024-11-21T12:34:45.225349Z",
     "iopub.status.idle": "2024-11-21T12:35:03.400166Z",
     "shell.execute_reply": "2024-11-21T12:35:03.399489Z"
    },
    "id": "68PAVbzRUfbG",
    "papermill": {
     "duration": 18.188108,
     "end_time": "2024-11-21T12:35:03.402252",
     "exception": false,
     "start_time": "2024-11-21T12:34:45.214144",
     "status": "completed"
    },
    "tags": []
   },
   "outputs": [],
   "source": [
    "import gymnasium as gym\n",
    "import numpy as np\n",
    "import os\n",
    "from huggingface_sb3 import load_from_hub, package_to_hub\n",
    "from huggingface_hub import notebook_login\n",
    "from stable_baselines3 import SAC\n",
    "from stable_baselines3.common.env_util import make_vec_env\n",
    "from stable_baselines3.common.evaluation import evaluate_policy\n",
    "from stable_baselines3.common.monitor import Monitor\n",
    "import torch\n",
    "import torch.nn as nn\n",
    "import optuna\n",
    "from optuna.pruners import MedianPruner\n",
    "from optuna.samplers import TPESampler\n",
    "from optuna.visualization import plot_optimization_history, plot_param_importances"
   ]
  },
  {
   "cell_type": "markdown",
   "id": "4f1e2d68",
   "metadata": {
    "id": "A05EcsZcMoTd",
    "papermill": {
     "duration": 0.010294,
     "end_time": "2024-11-21T12:35:03.423520",
     "exception": false,
     "start_time": "2024-11-21T12:35:03.413226",
     "status": "completed"
    },
    "tags": []
   },
   "source": [
    "# Hyperparameter tuning"
   ]
  },
  {
   "cell_type": "code",
   "execution_count": 7,
   "id": "da2c5b3b",
   "metadata": {
    "execution": {
     "iopub.execute_input": "2024-11-21T12:35:03.445794Z",
     "iopub.status.busy": "2024-11-21T12:35:03.445016Z",
     "iopub.status.idle": "2024-11-21T12:35:03.449655Z",
     "shell.execute_reply": "2024-11-21T12:35:03.448818Z"
    },
    "papermill": {
     "duration": 0.017496,
     "end_time": "2024-11-21T12:35:03.451390",
     "exception": false,
     "start_time": "2024-11-21T12:35:03.433894",
     "status": "completed"
    },
    "tags": []
   },
   "outputs": [
    {
     "name": "stdout",
     "output_type": "stream",
     "text": [
      "4\n"
     ]
    }
   ],
   "source": [
    "print(os.cpu_count())"
   ]
  },
  {
   "cell_type": "markdown",
   "id": "7ae40dbe",
   "metadata": {
    "id": "K6LXde_9YRXA",
    "papermill": {
     "duration": 0.010181,
     "end_time": "2024-11-21T12:35:03.472140",
     "exception": false,
     "start_time": "2024-11-21T12:35:03.461959",
     "status": "completed"
    },
    "tags": []
   },
   "source": [
    "### Config"
   ]
  },
  {
   "cell_type": "code",
   "execution_count": 8,
   "id": "a400fb71",
   "metadata": {
    "execution": {
     "iopub.execute_input": "2024-11-21T12:35:03.494098Z",
     "iopub.status.busy": "2024-11-21T12:35:03.493869Z",
     "iopub.status.idle": "2024-11-21T12:35:03.498707Z",
     "shell.execute_reply": "2024-11-21T12:35:03.497987Z"
    },
    "id": "5pwF4OJRZqtp",
    "papermill": {
     "duration": 0.017682,
     "end_time": "2024-11-21T12:35:03.500205",
     "exception": false,
     "start_time": "2024-11-21T12:35:03.482523",
     "status": "completed"
    },
    "tags": []
   },
   "outputs": [],
   "source": [
    "# Pendulum truncates at 200 time steps per episode\n",
    "# So 30,000 time steps means at least 150 episodes\n",
    "env_id = \"Pendulum-v1\"\n",
    "n_trials = 50 # Maximum number of trials\n",
    "n_jobs = os.cpu_count() # Number of jobs to run in parallel\n",
    "n_startup_trials = 5 # Stop random sampling after n_startup_trials\n",
    "n_evaluations = 3 # Number of evaluations during the training\n",
    "n_timesteps = 30_000 # Maximum number of timesteps\n",
    "eval_freq = int(n_timesteps / n_evaluations)\n",
    "n_eval_envs = 5\n",
    "n_eval_episodes = 10\n",
    "timeout = 3 * 3600 # 3 hours\n",
    "\n",
    "default_hyperparams = {\n",
    "    \"policy\": \"MlpPolicy\",\n",
    "    \"env\": env_id,\n",
    "    \"buffer_size\": 100_000,\n",
    "}"
   ]
  },
  {
   "cell_type": "markdown",
   "id": "e51a37ca",
   "metadata": {
    "id": "jmyyhmc2adR8",
    "papermill": {
     "duration": 0.010337,
     "end_time": "2024-11-21T12:35:03.521066",
     "exception": false,
     "start_time": "2024-11-21T12:35:03.510729",
     "status": "completed"
    },
    "tags": []
   },
   "source": [
    "### Define the search space"
   ]
  },
  {
   "cell_type": "code",
   "execution_count": 9,
   "id": "be55dddf",
   "metadata": {
    "execution": {
     "iopub.execute_input": "2024-11-21T12:35:03.543460Z",
     "iopub.status.busy": "2024-11-21T12:35:03.542699Z",
     "iopub.status.idle": "2024-11-21T12:35:03.548389Z",
     "shell.execute_reply": "2024-11-21T12:35:03.547795Z"
    },
    "id": "Ptf6MLXMUcWY",
    "papermill": {
     "duration": 0.018582,
     "end_time": "2024-11-21T12:35:03.550034",
     "exception": false,
     "start_time": "2024-11-21T12:35:03.531452",
     "status": "completed"
    },
    "tags": []
   },
   "outputs": [],
   "source": [
    "from typing import Any, Dict\n",
    "\n",
    "def sample_sac_params(trial: optuna.Trial) -> Dict[str, Any]:\n",
    "    \"\"\"\n",
    "    Sampler for DQN hyperparameters.\n",
    "    Args:\n",
    "        trial: Optuna trial object.\n",
    "    Returns:\n",
    "        Dictionary of sampled hyperparameters for the given trial.\n",
    "    \"\"\"\n",
    "\n",
    "    return {\n",
    "        \"learning_rate\": trial.suggest_float(\"learning_rate\", 1e-5, 1e-2, log=True),\n",
    "        \"gamma\": trial.suggest_float(\"gamma\", 0.9, 0.999),\n",
    "        \"tau\": trial.suggest_float(\"tau\", 1e-4, 1e-2, log=True),\n",
    "        \"train_freq\": trial.suggest_categorical(\"train_freq\", [1, 4, 8]),\n",
    "        \"gradient_steps\": trial.suggest_categorical(\"gradient_steps\", [1, 4, 8]),\n",
    "        \"policy_kwargs\": {\n",
    "            \"net_arch\": trial.suggest_categorical(\"net_arch\", [[64, 64], [128, 128], [256, 256]]),\n",
    "        },\n",
    "    }"
   ]
  },
  {
   "cell_type": "markdown",
   "id": "feb51dc8",
   "metadata": {
    "id": "9Or-RxN4kgYI",
    "papermill": {
     "duration": 0.010218,
     "end_time": "2024-11-21T12:35:03.570700",
     "exception": false,
     "start_time": "2024-11-21T12:35:03.560482",
     "status": "completed"
    },
    "tags": []
   },
   "source": [
    "### Define the objective function\n",
    "First we define a custom callback to report the results of periodic evaluations to Optuna."
   ]
  },
  {
   "cell_type": "code",
   "execution_count": 10,
   "id": "ec31eaab",
   "metadata": {
    "execution": {
     "iopub.execute_input": "2024-11-21T12:35:03.592499Z",
     "iopub.status.busy": "2024-11-21T12:35:03.592243Z",
     "iopub.status.idle": "2024-11-21T12:35:03.598753Z",
     "shell.execute_reply": "2024-11-21T12:35:03.597922Z"
    },
    "id": "UdrY7uXokf7y",
    "papermill": {
     "duration": 0.019104,
     "end_time": "2024-11-21T12:35:03.600290",
     "exception": false,
     "start_time": "2024-11-21T12:35:03.581186",
     "status": "completed"
    },
    "tags": []
   },
   "outputs": [],
   "source": [
    "from stable_baselines3.common.callbacks import EvalCallback\n",
    "\n",
    "class TrialEvalCallback(EvalCallback):\n",
    "    \"\"\"\n",
    "    Callback used for evaluating and reporting a trial.\n",
    "\n",
    "    :param eval_env: Evaluation environment\n",
    "    :param trial: Optuna trial object\n",
    "    :param n_eval_episodes: Number of evaluation episodes\n",
    "    :param eval_freq: Evaluate the agent every ``eval_freq`` call of the callback.\n",
    "    :param deterministic: Whether the evaluation should\n",
    "        use a stochastic or deterministic policy.\n",
    "    :param verbose:\n",
    "    \"\"\"\n",
    "\n",
    "    def __init__(\n",
    "        self,\n",
    "        eval_env: gym.Env,\n",
    "        trial: optuna.Trial,\n",
    "        n_eval_episodes: int = 5,\n",
    "        eval_freq: int = 10_000,\n",
    "        deterministic: bool = True,\n",
    "        verbose: int = 0,\n",
    "    ):\n",
    "\n",
    "        super().__init__(\n",
    "            eval_env=eval_env,\n",
    "            n_eval_episodes=n_eval_episodes,\n",
    "            eval_freq=eval_freq,\n",
    "            deterministic=deterministic,\n",
    "            verbose=verbose,\n",
    "        )\n",
    "        self.trial = trial\n",
    "        self.eval_idx = 0\n",
    "        self.is_pruned = False\n",
    "\n",
    "    def _on_step(self) -> bool:\n",
    "        if self.eval_freq > 0 and self.n_calls % self.eval_freq == 0:\n",
    "            # Evaluate policy (done in the parent class)\n",
    "            super()._on_step()\n",
    "            self.eval_idx += 1\n",
    "            # Send report to Optuna\n",
    "            self.trial.report(self.last_mean_reward, self.eval_idx)\n",
    "            # Prune trial if need\n",
    "            if self.trial.should_prune():\n",
    "                self.is_pruned = True\n",
    "                return False\n",
    "        return True"
   ]
  },
  {
   "cell_type": "markdown",
   "id": "86a500c2",
   "metadata": {
    "id": "hE8dVGYalVCv",
    "papermill": {
     "duration": 0.010168,
     "end_time": "2024-11-21T12:35:03.620848",
     "exception": false,
     "start_time": "2024-11-21T12:35:03.610680",
     "status": "completed"
    },
    "tags": []
   },
   "source": [
    "Then we define the objective function that is in charge of sampling hyperparameters, creating the model and then returning the result to Optuna"
   ]
  },
  {
   "cell_type": "code",
   "execution_count": 11,
   "id": "8ed9984e",
   "metadata": {
    "execution": {
     "iopub.execute_input": "2024-11-21T12:35:03.642663Z",
     "iopub.status.busy": "2024-11-21T12:35:03.642450Z",
     "iopub.status.idle": "2024-11-21T12:35:03.648028Z",
     "shell.execute_reply": "2024-11-21T12:35:03.647366Z"
    },
    "id": "NPI46RcNlb1p",
    "papermill": {
     "duration": 0.018446,
     "end_time": "2024-11-21T12:35:03.649592",
     "exception": false,
     "start_time": "2024-11-21T12:35:03.631146",
     "status": "completed"
    },
    "tags": []
   },
   "outputs": [],
   "source": [
    "def objective(trial: optuna.Trial) -> float:\n",
    "    \"\"\"\n",
    "    Objective function used by Optuna to evaluate one configuration (i.e., one set of hyperparameters).\n",
    "\n",
    "    Given a trial object, it will sample hyperparameters, evaluate it and report the result\n",
    "    (mean episodic reward after training)\n",
    "\n",
    "    Args:\n",
    "        trial: Optuna trial object\n",
    "    Returns:\n",
    "        Mean episodic reward after training\n",
    "    \"\"\"\n",
    "\n",
    "    kwargs = default_hyperparams.copy()\n",
    "    # Sample parameters\n",
    "    kwargs.update(sample_sac_params(trial))\n",
    "\n",
    "    # Create the RL model\n",
    "    model = SAC(**kwargs)\n",
    "\n",
    "    # Create evaluation environment\n",
    "    eval_env = make_vec_env(env_id, n_envs=n_eval_envs)\n",
    "\n",
    "    # Create the callback that will periodically evaluate\n",
    "    eval_callback = TrialEvalCallback(\n",
    "        eval_env=eval_env,\n",
    "        trial=trial,\n",
    "        n_eval_episodes=n_eval_episodes,\n",
    "        eval_freq=eval_freq,\n",
    "        verbose=1,\n",
    "    )\n",
    "\n",
    "    nan_encountered = False\n",
    "    try:\n",
    "        model.learn(n_timesteps, callback=eval_callback)\n",
    "    except AssertionError as e:\n",
    "        # Sometimes, random hyperparams can generate NaN.\n",
    "        print(e)\n",
    "        nan_encountered = True\n",
    "    finally:\n",
    "        # Free memory\n",
    "        model.env.close()\n",
    "        eval_env.close()\n",
    "\n",
    "    # Tell the optimizer that the trial failed\n",
    "    if nan_encountered:\n",
    "        return float(\"nan\")\n",
    "\n",
    "    if eval_callback.is_pruned:\n",
    "        raise optuna.exceptions.TrialPruned()\n",
    "\n",
    "    return eval_callback.last_mean_reward"
   ]
  },
  {
   "cell_type": "markdown",
   "id": "675ea81d",
   "metadata": {
    "id": "5QnjnslfpB0g",
    "papermill": {
     "duration": 0.010547,
     "end_time": "2024-11-21T12:35:03.670587",
     "exception": false,
     "start_time": "2024-11-21T12:35:03.660040",
     "status": "completed"
    },
    "tags": []
   },
   "source": [
    "### The optimization loop"
   ]
  },
  {
   "cell_type": "code",
   "execution_count": 12,
   "id": "79f25bbc",
   "metadata": {
    "execution": {
     "iopub.execute_input": "2024-11-21T12:35:03.692448Z",
     "iopub.status.busy": "2024-11-21T12:35:03.692185Z",
     "iopub.status.idle": "2024-11-21T16:19:54.621601Z",
     "shell.execute_reply": "2024-11-21T16:19:54.620795Z"
    },
    "id": "OWXW41c0pFXD",
    "outputId": "e4d43073-cf5f-4140-bece-396300cc13aa",
    "papermill": {
     "duration": 13490.942343,
     "end_time": "2024-11-21T16:19:54.623341",
     "exception": false,
     "start_time": "2024-11-21T12:35:03.680998",
     "status": "completed"
    },
    "tags": []
   },
   "outputs": [
    {
     "name": "stderr",
     "output_type": "stream",
     "text": [
      "[I 2024-11-21 12:35:03,695] A new study created in memory with name: no-name-c7c24ec3-10d9-4561-b622-9c35ceb0b6d6\n",
      "/opt/conda/lib/python3.10/site-packages/optuna/distributions.py:524: UserWarning: Choices for a categorical distribution should be a tuple of None, bool, int, float and str for persistent storage but contains [64, 64] which is of type list.\n",
      "  warnings.warn(message)\n",
      "/opt/conda/lib/python3.10/site-packages/optuna/distributions.py:524: UserWarning: Choices for a categorical distribution should be a tuple of None, bool, int, float and str for persistent storage but contains [128, 128] which is of type list.\n",
      "  warnings.warn(message)\n",
      "/opt/conda/lib/python3.10/site-packages/optuna/distributions.py:524: UserWarning: Choices for a categorical distribution should be a tuple of None, bool, int, float and str for persistent storage but contains [256, 256] which is of type list.\n",
      "  warnings.warn(message)\n"
     ]
    },
    {
     "name": "stdout",
     "output_type": "stream",
     "text": [
      "Eval num_timesteps=10000, episode_reward=-1675.18 +/- 177.37\n",
      "Episode length: 200.00 +/- 0.00\n",
      "New best mean reward!\n",
      "Eval num_timesteps=20000, episode_reward=-1359.56 +/- 89.40\n",
      "Episode length: 200.00 +/- 0.00\n",
      "New best mean reward!\n",
      "Eval num_timesteps=10000, episode_reward=-799.37 +/- 146.53\n",
      "Episode length: 200.00 +/- 0.00\n",
      "New best mean reward!\n",
      "Eval num_timesteps=30000, episode_reward=-1070.04 +/- 42.71\n",
      "Episode length: 200.00 +/- 0.00\n",
      "New best mean reward!\n"
     ]
    },
    {
     "name": "stderr",
     "output_type": "stream",
     "text": [
      "[I 2024-11-21 13:05:15,967] Trial 1 finished with value: -1070.0433832999997 and parameters: {'learning_rate': 4.1165675843494636e-05, 'gamma': 0.9376719896785453, 'tau': 0.00027985579791229393, 'train_freq': 8, 'gradient_steps': 8, 'net_arch': [256, 256]}. Best is trial 1 with value: -1070.0433832999997.\n",
      "/opt/conda/lib/python3.10/site-packages/optuna/distributions.py:524: UserWarning: Choices for a categorical distribution should be a tuple of None, bool, int, float and str for persistent storage but contains [64, 64] which is of type list.\n",
      "  warnings.warn(message)\n",
      "/opt/conda/lib/python3.10/site-packages/optuna/distributions.py:524: UserWarning: Choices for a categorical distribution should be a tuple of None, bool, int, float and str for persistent storage but contains [128, 128] which is of type list.\n",
      "  warnings.warn(message)\n",
      "/opt/conda/lib/python3.10/site-packages/optuna/distributions.py:524: UserWarning: Choices for a categorical distribution should be a tuple of None, bool, int, float and str for persistent storage but contains [256, 256] which is of type list.\n",
      "  warnings.warn(message)\n"
     ]
    },
    {
     "name": "stdout",
     "output_type": "stream",
     "text": [
      "Eval num_timesteps=10000, episode_reward=-143.96 +/- 70.17\n",
      "Episode length: 200.00 +/- 0.00\n",
      "New best mean reward!\n",
      "Eval num_timesteps=20000, episode_reward=-169.86 +/- 99.62\n",
      "Episode length: 200.00 +/- 0.00\n",
      "New best mean reward!\n",
      "Eval num_timesteps=10000, episode_reward=-288.26 +/- 404.13\n",
      "Episode length: 200.00 +/- 0.00\n",
      "New best mean reward!\n"
     ]
    },
    {
     "name": "stderr",
     "output_type": "stream",
     "text": [
      "[I 2024-11-21 13:58:28,066] Trial 2 finished with value: -161.48442110000002 and parameters: {'learning_rate': 3.657259260015599e-05, 'gamma': 0.927201947300053, 'tau': 0.000320323003838478, 'train_freq': 1, 'gradient_steps': 4, 'net_arch': [64, 64]}. Best is trial 2 with value: -161.48442110000002.\n"
     ]
    },
    {
     "name": "stdout",
     "output_type": "stream",
     "text": [
      "Eval num_timesteps=30000, episode_reward=-161.48 +/- 109.11\n",
      "Episode length: 200.00 +/- 0.00\n",
      "New best mean reward!\n",
      "Eval num_timesteps=10000, episode_reward=-1073.95 +/- 57.24\n",
      "Episode length: 200.00 +/- 0.00\n",
      "New best mean reward!\n",
      "Eval num_timesteps=20000, episode_reward=-196.34 +/- 87.40\n",
      "Episode length: 200.00 +/- 0.00\n",
      "New best mean reward!\n"
     ]
    },
    {
     "name": "stderr",
     "output_type": "stream",
     "text": [
      "[I 2024-11-21 14:03:14,498] Trial 5 finished with value: -398.106228 and parameters: {'learning_rate': 0.0012998454681718502, 'gamma': 0.9429054134309905, 'tau': 0.007718666773259011, 'train_freq': 8, 'gradient_steps': 1, 'net_arch': [128, 128]}. Best is trial 2 with value: -161.48442110000002.\n"
     ]
    },
    {
     "name": "stdout",
     "output_type": "stream",
     "text": [
      "Eval num_timesteps=30000, episode_reward=-398.11 +/- 333.12\n",
      "Episode length: 200.00 +/- 0.00\n",
      "Eval num_timesteps=10000, episode_reward=-1518.61 +/- 215.76\n",
      "Episode length: 200.00 +/- 0.00\n",
      "New best mean reward!\n",
      "Eval num_timesteps=20000, episode_reward=-1782.69 +/- 128.24\n",
      "Episode length: 200.00 +/- 0.00\n"
     ]
    },
    {
     "name": "stderr",
     "output_type": "stream",
     "text": [
      "[I 2024-11-21 14:10:35,345] Trial 6 finished with value: -1638.9995572 and parameters: {'learning_rate': 0.0003666868814052348, 'gamma': 0.9253962302532939, 'tau': 0.00019241200222393026, 'train_freq': 4, 'gradient_steps': 1, 'net_arch': [256, 256]}. Best is trial 2 with value: -161.48442110000002.\n"
     ]
    },
    {
     "name": "stdout",
     "output_type": "stream",
     "text": [
      "Eval num_timesteps=30000, episode_reward=-1639.00 +/- 102.48\n",
      "Episode length: 200.00 +/- 0.00\n",
      "Eval num_timesteps=10000, episode_reward=-1391.56 +/- 375.01\n",
      "Episode length: 200.00 +/- 0.00\n",
      "New best mean reward!\n",
      "Eval num_timesteps=20000, episode_reward=-1706.16 +/- 229.59\n",
      "Episode length: 200.00 +/- 0.00\n",
      "Eval num_timesteps=20000, episode_reward=-169.49 +/- 69.14\n",
      "Episode length: 200.00 +/- 0.00\n"
     ]
    },
    {
     "name": "stderr",
     "output_type": "stream",
     "text": [
      "[I 2024-11-21 14:17:53,366] Trial 7 finished with value: -1715.8232001000001 and parameters: {'learning_rate': 3.4830760126135846e-05, 'gamma': 0.9477773805386555, 'tau': 0.00044765205437402654, 'train_freq': 4, 'gradient_steps': 1, 'net_arch': [128, 128]}. Best is trial 2 with value: -161.48442110000002.\n"
     ]
    },
    {
     "name": "stdout",
     "output_type": "stream",
     "text": [
      "Eval num_timesteps=30000, episode_reward=-1715.82 +/- 159.87\n",
      "Episode length: 200.00 +/- 0.00\n",
      "Eval num_timesteps=10000, episode_reward=-214.08 +/- 109.82\n",
      "Episode length: 200.00 +/- 0.00\n",
      "New best mean reward!\n",
      "Eval num_timesteps=20000, episode_reward=-162.41 +/- 52.97\n",
      "Episode length: 200.00 +/- 0.00\n",
      "New best mean reward!\n",
      "Eval num_timesteps=10000, episode_reward=-1572.03 +/- 49.48\n",
      "Episode length: 200.00 +/- 0.00\n",
      "New best mean reward!\n",
      "Eval num_timesteps=30000, episode_reward=-158.09 +/- 79.14\n",
      "Episode length: 200.00 +/- 0.00\n"
     ]
    },
    {
     "name": "stderr",
     "output_type": "stream",
     "text": [
      "[I 2024-11-21 15:05:55,656] Trial 0 finished with value: -158.09155530000004 and parameters: {'learning_rate': 0.0001542236247345275, 'gamma': 0.9907994435403604, 'tau': 0.0005011425981587652, 'train_freq': 1, 'gradient_steps': 8, 'net_arch': [64, 64]}. Best is trial 0 with value: -158.09155530000004.\n"
     ]
    },
    {
     "name": "stdout",
     "output_type": "stream",
     "text": [
      "Eval num_timesteps=20000, episode_reward=-1184.59 +/- 56.70\n",
      "Episode length: 200.00 +/- 0.00\n",
      "New best mean reward!\n",
      "Eval num_timesteps=20000, episode_reward=-182.31 +/- 91.58\n",
      "Episode length: 200.00 +/- 0.00\n",
      "New best mean reward!\n"
     ]
    },
    {
     "name": "stderr",
     "output_type": "stream",
     "text": [
      "[I 2024-11-21 15:40:26,404] Trial 8 finished with value: -899.0864806 and parameters: {'learning_rate': 1.1803124326908988e-05, 'gamma': 0.996974379840116, 'tau': 0.00260478463857056, 'train_freq': 1, 'gradient_steps': 4, 'net_arch': [64, 64]}. Best is trial 0 with value: -158.09155530000004.\n"
     ]
    },
    {
     "name": "stdout",
     "output_type": "stream",
     "text": [
      "Eval num_timesteps=30000, episode_reward=-899.09 +/- 46.42\n",
      "Episode length: 200.00 +/- 0.00\n",
      "New best mean reward!\n",
      "Eval num_timesteps=30000, episode_reward=-161.84 +/- 51.45\n",
      "Episode length: 200.00 +/- 0.00\n",
      "New best mean reward!\n"
     ]
    },
    {
     "name": "stderr",
     "output_type": "stream",
     "text": [
      "[I 2024-11-21 15:44:12,405] Trial 3 finished with value: -161.8359393 and parameters: {'learning_rate': 0.0003651542966147369, 'gamma': 0.9156309589492407, 'tau': 0.00852446744286512, 'train_freq': 1, 'gradient_steps': 8, 'net_arch': [64, 64]}. Best is trial 0 with value: -158.09155530000004.\n"
     ]
    },
    {
     "name": "stdout",
     "output_type": "stream",
     "text": [
      "Eval num_timesteps=10000, episode_reward=-145.25 +/- 43.19\n",
      "Episode length: 200.00 +/- 0.00\n",
      "New best mean reward!\n"
     ]
    },
    {
     "name": "stderr",
     "output_type": "stream",
     "text": [
      "[I 2024-11-21 16:04:17,168] Trial 4 finished with value: -143.49746259999998 and parameters: {'learning_rate': 1.9076243201421694e-05, 'gamma': 0.9297866969132312, 'tau': 0.0005435995778071192, 'train_freq': 1, 'gradient_steps': 8, 'net_arch': [64, 64]}. Best is trial 4 with value: -143.49746259999998.\n"
     ]
    },
    {
     "name": "stdout",
     "output_type": "stream",
     "text": [
      "Eval num_timesteps=30000, episode_reward=-143.50 +/- 92.53\n",
      "Episode length: 200.00 +/- 0.00\n",
      "New best mean reward!\n",
      "Eval num_timesteps=20000, episode_reward=-143.90 +/- 42.12\n",
      "Episode length: 200.00 +/- 0.00\n",
      "New best mean reward!\n"
     ]
    },
    {
     "name": "stderr",
     "output_type": "stream",
     "text": [
      "[I 2024-11-21 16:19:54,144] Trial 9 finished with value: -165.96314359999997 and parameters: {'learning_rate': 0.005947781241868968, 'gamma': 0.9870589052406724, 'tau': 0.0019063764765887019, 'train_freq': 1, 'gradient_steps': 8, 'net_arch': [64, 64]}. Best is trial 4 with value: -143.49746259999998.\n"
     ]
    },
    {
     "name": "stdout",
     "output_type": "stream",
     "text": [
      "Eval num_timesteps=30000, episode_reward=-165.96 +/- 76.19\n",
      "Episode length: 200.00 +/- 0.00\n",
      "Number of finished trials:  10\n",
      "Best trial:\n",
      "  Value: -143.49746259999998\n",
      "  Params: \n",
      "    learning_rate: 1.9076243201421694e-05\n",
      "    gamma: 0.9297866969132312\n",
      "    tau: 0.0005435995778071192\n",
      "    train_freq: 1\n",
      "    gradient_steps: 8\n",
      "    net_arch: [64, 64]\n"
     ]
    },
    {
     "data": {
      "text/html": [
       "        <script type=\"text/javascript\">\n",
       "        window.PlotlyConfig = {MathJaxConfig: 'local'};\n",
       "        if (window.MathJax && window.MathJax.Hub && window.MathJax.Hub.Config) {window.MathJax.Hub.Config({SVG: {font: \"STIX-Web\"}});}\n",
       "        if (typeof require !== 'undefined') {\n",
       "        require.undef(\"plotly\");\n",
       "        requirejs.config({\n",
       "            paths: {\n",
       "                'plotly': ['https://cdn.plot.ly/plotly-2.32.0.min']\n",
       "            }\n",
       "        });\n",
       "        require(['plotly'], function(Plotly) {\n",
       "            window._Plotly = Plotly;\n",
       "        });\n",
       "        }\n",
       "        </script>\n",
       "        "
      ]
     },
     "metadata": {},
     "output_type": "display_data"
    },
    {
     "data": {
      "text/html": [
       "<div>                            <div id=\"27f90370-8623-4efe-8666-9b77553306fb\" class=\"plotly-graph-div\" style=\"height:525px; width:100%;\"></div>            <script type=\"text/javascript\">                require([\"plotly\"], function(Plotly) {                    window.PLOTLYENV=window.PLOTLYENV || {};                                    if (document.getElementById(\"27f90370-8623-4efe-8666-9b77553306fb\")) {                    Plotly.newPlot(                        \"27f90370-8623-4efe-8666-9b77553306fb\",                        [{\"mode\":\"markers\",\"name\":\"Objective Value\",\"x\":[0,1,2,3,4,5,6,7,8,9],\"y\":[-158.09155530000004,-1070.0433832999997,-161.48442110000002,-161.8359393,-143.49746259999998,-398.106228,-1638.9995572,-1715.8232001000001,-899.0864806,-165.96314359999997],\"type\":\"scatter\"},{\"mode\":\"lines\",\"name\":\"Best Value\",\"x\":[0,1,2,3,4,5,6,7,8,9],\"y\":[-158.09155530000004,-158.09155530000004,-158.09155530000004,-158.09155530000004,-143.49746259999998,-143.49746259999998,-143.49746259999998,-143.49746259999998,-143.49746259999998,-143.49746259999998],\"type\":\"scatter\"},{\"marker\":{\"color\":\"#cccccc\"},\"mode\":\"markers\",\"name\":\"Infeasible Trial\",\"showlegend\":false,\"x\":[],\"y\":[],\"type\":\"scatter\"}],                        {\"title\":{\"text\":\"Optimization History Plot\"},\"xaxis\":{\"title\":{\"text\":\"Trial\"}},\"yaxis\":{\"title\":{\"text\":\"Objective Value\"}},\"template\":{\"data\":{\"histogram2dcontour\":[{\"type\":\"histogram2dcontour\",\"colorbar\":{\"outlinewidth\":0,\"ticks\":\"\"},\"colorscale\":[[0.0,\"#0d0887\"],[0.1111111111111111,\"#46039f\"],[0.2222222222222222,\"#7201a8\"],[0.3333333333333333,\"#9c179e\"],[0.4444444444444444,\"#bd3786\"],[0.5555555555555556,\"#d8576b\"],[0.6666666666666666,\"#ed7953\"],[0.7777777777777778,\"#fb9f3a\"],[0.8888888888888888,\"#fdca26\"],[1.0,\"#f0f921\"]]}],\"choropleth\":[{\"type\":\"choropleth\",\"colorbar\":{\"outlinewidth\":0,\"ticks\":\"\"}}],\"histogram2d\":[{\"type\":\"histogram2d\",\"colorbar\":{\"outlinewidth\":0,\"ticks\":\"\"},\"colorscale\":[[0.0,\"#0d0887\"],[0.1111111111111111,\"#46039f\"],[0.2222222222222222,\"#7201a8\"],[0.3333333333333333,\"#9c179e\"],[0.4444444444444444,\"#bd3786\"],[0.5555555555555556,\"#d8576b\"],[0.6666666666666666,\"#ed7953\"],[0.7777777777777778,\"#fb9f3a\"],[0.8888888888888888,\"#fdca26\"],[1.0,\"#f0f921\"]]}],\"heatmap\":[{\"type\":\"heatmap\",\"colorbar\":{\"outlinewidth\":0,\"ticks\":\"\"},\"colorscale\":[[0.0,\"#0d0887\"],[0.1111111111111111,\"#46039f\"],[0.2222222222222222,\"#7201a8\"],[0.3333333333333333,\"#9c179e\"],[0.4444444444444444,\"#bd3786\"],[0.5555555555555556,\"#d8576b\"],[0.6666666666666666,\"#ed7953\"],[0.7777777777777778,\"#fb9f3a\"],[0.8888888888888888,\"#fdca26\"],[1.0,\"#f0f921\"]]}],\"heatmapgl\":[{\"type\":\"heatmapgl\",\"colorbar\":{\"outlinewidth\":0,\"ticks\":\"\"},\"colorscale\":[[0.0,\"#0d0887\"],[0.1111111111111111,\"#46039f\"],[0.2222222222222222,\"#7201a8\"],[0.3333333333333333,\"#9c179e\"],[0.4444444444444444,\"#bd3786\"],[0.5555555555555556,\"#d8576b\"],[0.6666666666666666,\"#ed7953\"],[0.7777777777777778,\"#fb9f3a\"],[0.8888888888888888,\"#fdca26\"],[1.0,\"#f0f921\"]]}],\"contourcarpet\":[{\"type\":\"contourcarpet\",\"colorbar\":{\"outlinewidth\":0,\"ticks\":\"\"}}],\"contour\":[{\"type\":\"contour\",\"colorbar\":{\"outlinewidth\":0,\"ticks\":\"\"},\"colorscale\":[[0.0,\"#0d0887\"],[0.1111111111111111,\"#46039f\"],[0.2222222222222222,\"#7201a8\"],[0.3333333333333333,\"#9c179e\"],[0.4444444444444444,\"#bd3786\"],[0.5555555555555556,\"#d8576b\"],[0.6666666666666666,\"#ed7953\"],[0.7777777777777778,\"#fb9f3a\"],[0.8888888888888888,\"#fdca26\"],[1.0,\"#f0f921\"]]}],\"surface\":[{\"type\":\"surface\",\"colorbar\":{\"outlinewidth\":0,\"ticks\":\"\"},\"colorscale\":[[0.0,\"#0d0887\"],[0.1111111111111111,\"#46039f\"],[0.2222222222222222,\"#7201a8\"],[0.3333333333333333,\"#9c179e\"],[0.4444444444444444,\"#bd3786\"],[0.5555555555555556,\"#d8576b\"],[0.6666666666666666,\"#ed7953\"],[0.7777777777777778,\"#fb9f3a\"],[0.8888888888888888,\"#fdca26\"],[1.0,\"#f0f921\"]]}],\"mesh3d\":[{\"type\":\"mesh3d\",\"colorbar\":{\"outlinewidth\":0,\"ticks\":\"\"}}],\"scatter\":[{\"fillpattern\":{\"fillmode\":\"overlay\",\"size\":10,\"solidity\":0.2},\"type\":\"scatter\"}],\"parcoords\":[{\"type\":\"parcoords\",\"line\":{\"colorbar\":{\"outlinewidth\":0,\"ticks\":\"\"}}}],\"scatterpolargl\":[{\"type\":\"scatterpolargl\",\"marker\":{\"colorbar\":{\"outlinewidth\":0,\"ticks\":\"\"}}}],\"bar\":[{\"error_x\":{\"color\":\"#2a3f5f\"},\"error_y\":{\"color\":\"#2a3f5f\"},\"marker\":{\"line\":{\"color\":\"#E5ECF6\",\"width\":0.5},\"pattern\":{\"fillmode\":\"overlay\",\"size\":10,\"solidity\":0.2}},\"type\":\"bar\"}],\"scattergeo\":[{\"type\":\"scattergeo\",\"marker\":{\"colorbar\":{\"outlinewidth\":0,\"ticks\":\"\"}}}],\"scatterpolar\":[{\"type\":\"scatterpolar\",\"marker\":{\"colorbar\":{\"outlinewidth\":0,\"ticks\":\"\"}}}],\"histogram\":[{\"marker\":{\"pattern\":{\"fillmode\":\"overlay\",\"size\":10,\"solidity\":0.2}},\"type\":\"histogram\"}],\"scattergl\":[{\"type\":\"scattergl\",\"marker\":{\"colorbar\":{\"outlinewidth\":0,\"ticks\":\"\"}}}],\"scatter3d\":[{\"type\":\"scatter3d\",\"line\":{\"colorbar\":{\"outlinewidth\":0,\"ticks\":\"\"}},\"marker\":{\"colorbar\":{\"outlinewidth\":0,\"ticks\":\"\"}}}],\"scattermapbox\":[{\"type\":\"scattermapbox\",\"marker\":{\"colorbar\":{\"outlinewidth\":0,\"ticks\":\"\"}}}],\"scatterternary\":[{\"type\":\"scatterternary\",\"marker\":{\"colorbar\":{\"outlinewidth\":0,\"ticks\":\"\"}}}],\"scattercarpet\":[{\"type\":\"scattercarpet\",\"marker\":{\"colorbar\":{\"outlinewidth\":0,\"ticks\":\"\"}}}],\"carpet\":[{\"aaxis\":{\"endlinecolor\":\"#2a3f5f\",\"gridcolor\":\"white\",\"linecolor\":\"white\",\"minorgridcolor\":\"white\",\"startlinecolor\":\"#2a3f5f\"},\"baxis\":{\"endlinecolor\":\"#2a3f5f\",\"gridcolor\":\"white\",\"linecolor\":\"white\",\"minorgridcolor\":\"white\",\"startlinecolor\":\"#2a3f5f\"},\"type\":\"carpet\"}],\"table\":[{\"cells\":{\"fill\":{\"color\":\"#EBF0F8\"},\"line\":{\"color\":\"white\"}},\"header\":{\"fill\":{\"color\":\"#C8D4E3\"},\"line\":{\"color\":\"white\"}},\"type\":\"table\"}],\"barpolar\":[{\"marker\":{\"line\":{\"color\":\"#E5ECF6\",\"width\":0.5},\"pattern\":{\"fillmode\":\"overlay\",\"size\":10,\"solidity\":0.2}},\"type\":\"barpolar\"}],\"pie\":[{\"automargin\":true,\"type\":\"pie\"}]},\"layout\":{\"autotypenumbers\":\"strict\",\"colorway\":[\"#636efa\",\"#EF553B\",\"#00cc96\",\"#ab63fa\",\"#FFA15A\",\"#19d3f3\",\"#FF6692\",\"#B6E880\",\"#FF97FF\",\"#FECB52\"],\"font\":{\"color\":\"#2a3f5f\"},\"hovermode\":\"closest\",\"hoverlabel\":{\"align\":\"left\"},\"paper_bgcolor\":\"white\",\"plot_bgcolor\":\"#E5ECF6\",\"polar\":{\"bgcolor\":\"#E5ECF6\",\"angularaxis\":{\"gridcolor\":\"white\",\"linecolor\":\"white\",\"ticks\":\"\"},\"radialaxis\":{\"gridcolor\":\"white\",\"linecolor\":\"white\",\"ticks\":\"\"}},\"ternary\":{\"bgcolor\":\"#E5ECF6\",\"aaxis\":{\"gridcolor\":\"white\",\"linecolor\":\"white\",\"ticks\":\"\"},\"baxis\":{\"gridcolor\":\"white\",\"linecolor\":\"white\",\"ticks\":\"\"},\"caxis\":{\"gridcolor\":\"white\",\"linecolor\":\"white\",\"ticks\":\"\"}},\"coloraxis\":{\"colorbar\":{\"outlinewidth\":0,\"ticks\":\"\"}},\"colorscale\":{\"sequential\":[[0.0,\"#0d0887\"],[0.1111111111111111,\"#46039f\"],[0.2222222222222222,\"#7201a8\"],[0.3333333333333333,\"#9c179e\"],[0.4444444444444444,\"#bd3786\"],[0.5555555555555556,\"#d8576b\"],[0.6666666666666666,\"#ed7953\"],[0.7777777777777778,\"#fb9f3a\"],[0.8888888888888888,\"#fdca26\"],[1.0,\"#f0f921\"]],\"sequentialminus\":[[0.0,\"#0d0887\"],[0.1111111111111111,\"#46039f\"],[0.2222222222222222,\"#7201a8\"],[0.3333333333333333,\"#9c179e\"],[0.4444444444444444,\"#bd3786\"],[0.5555555555555556,\"#d8576b\"],[0.6666666666666666,\"#ed7953\"],[0.7777777777777778,\"#fb9f3a\"],[0.8888888888888888,\"#fdca26\"],[1.0,\"#f0f921\"]],\"diverging\":[[0,\"#8e0152\"],[0.1,\"#c51b7d\"],[0.2,\"#de77ae\"],[0.3,\"#f1b6da\"],[0.4,\"#fde0ef\"],[0.5,\"#f7f7f7\"],[0.6,\"#e6f5d0\"],[0.7,\"#b8e186\"],[0.8,\"#7fbc41\"],[0.9,\"#4d9221\"],[1,\"#276419\"]]},\"xaxis\":{\"gridcolor\":\"white\",\"linecolor\":\"white\",\"ticks\":\"\",\"title\":{\"standoff\":15},\"zerolinecolor\":\"white\",\"automargin\":true,\"zerolinewidth\":2},\"yaxis\":{\"gridcolor\":\"white\",\"linecolor\":\"white\",\"ticks\":\"\",\"title\":{\"standoff\":15},\"zerolinecolor\":\"white\",\"automargin\":true,\"zerolinewidth\":2},\"scene\":{\"xaxis\":{\"backgroundcolor\":\"#E5ECF6\",\"gridcolor\":\"white\",\"linecolor\":\"white\",\"showbackground\":true,\"ticks\":\"\",\"zerolinecolor\":\"white\",\"gridwidth\":2},\"yaxis\":{\"backgroundcolor\":\"#E5ECF6\",\"gridcolor\":\"white\",\"linecolor\":\"white\",\"showbackground\":true,\"ticks\":\"\",\"zerolinecolor\":\"white\",\"gridwidth\":2},\"zaxis\":{\"backgroundcolor\":\"#E5ECF6\",\"gridcolor\":\"white\",\"linecolor\":\"white\",\"showbackground\":true,\"ticks\":\"\",\"zerolinecolor\":\"white\",\"gridwidth\":2}},\"shapedefaults\":{\"line\":{\"color\":\"#2a3f5f\"}},\"annotationdefaults\":{\"arrowcolor\":\"#2a3f5f\",\"arrowhead\":0,\"arrowwidth\":1},\"geo\":{\"bgcolor\":\"white\",\"landcolor\":\"#E5ECF6\",\"subunitcolor\":\"white\",\"showland\":true,\"showlakes\":true,\"lakecolor\":\"white\"},\"title\":{\"x\":0.05},\"mapbox\":{\"style\":\"light\"}}}},                        {\"responsive\": true}                    ).then(function(){\n",
       "                            \n",
       "var gd = document.getElementById('27f90370-8623-4efe-8666-9b77553306fb');\n",
       "var x = new MutationObserver(function (mutations, observer) {{\n",
       "        var display = window.getComputedStyle(gd).display;\n",
       "        if (!display || display === 'none') {{\n",
       "            console.log([gd, 'removed!']);\n",
       "            Plotly.purge(gd);\n",
       "            observer.disconnect();\n",
       "        }}\n",
       "}});\n",
       "\n",
       "// Listen for the removal of the full notebook cells\n",
       "var notebookContainer = gd.closest('#notebook-container');\n",
       "if (notebookContainer) {{\n",
       "    x.observe(notebookContainer, {childList: true});\n",
       "}}\n",
       "\n",
       "// Listen for the clearing of the current output cell\n",
       "var outputEl = gd.closest('.output');\n",
       "if (outputEl) {{\n",
       "    x.observe(outputEl, {childList: true});\n",
       "}}\n",
       "\n",
       "                        })                };                });            </script>        </div>"
      ]
     },
     "metadata": {},
     "output_type": "display_data"
    },
    {
     "data": {
      "text/html": [
       "<div>                            <div id=\"2987b868-dcca-4d22-ab5c-bea8632358ce\" class=\"plotly-graph-div\" style=\"height:525px; width:100%;\"></div>            <script type=\"text/javascript\">                require([\"plotly\"], function(Plotly) {                    window.PLOTLYENV=window.PLOTLYENV || {};                                    if (document.getElementById(\"2987b868-dcca-4d22-ab5c-bea8632358ce\")) {                    Plotly.newPlot(                        \"2987b868-dcca-4d22-ab5c-bea8632358ce\",                        [{\"cliponaxis\":false,\"hovertemplate\":[\"gamma (FloatDistribution): 0.03939949376327124\\u003cextra\\u003e\\u003c\\u002fextra\\u003e\",\"learning_rate (FloatDistribution): 0.03973220153362507\\u003cextra\\u003e\\u003c\\u002fextra\\u003e\",\"gradient_steps (CategoricalDistribution): 0.15118766219371851\\u003cextra\\u003e\\u003c\\u002fextra\\u003e\",\"tau (FloatDistribution): 0.16746883643881563\\u003cextra\\u003e\\u003c\\u002fextra\\u003e\",\"net_arch (CategoricalDistribution): 0.23064017260880557\\u003cextra\\u003e\\u003c\\u002fextra\\u003e\",\"train_freq (CategoricalDistribution): 0.3715716334617639\\u003cextra\\u003e\\u003c\\u002fextra\\u003e\"],\"name\":\"Objective Value\",\"orientation\":\"h\",\"text\":[\"0.04\",\"0.04\",\"0.15\",\"0.17\",\"0.23\",\"0.37\"],\"textposition\":\"outside\",\"x\":[0.03939949376327124,0.03973220153362507,0.15118766219371851,0.16746883643881563,0.23064017260880557,0.3715716334617639],\"y\":[\"gamma\",\"learning_rate\",\"gradient_steps\",\"tau\",\"net_arch\",\"train_freq\"],\"type\":\"bar\"}],                        {\"title\":{\"text\":\"Hyperparameter Importances\"},\"xaxis\":{\"title\":{\"text\":\"Hyperparameter Importance\"}},\"yaxis\":{\"title\":{\"text\":\"Hyperparameter\"}},\"template\":{\"data\":{\"histogram2dcontour\":[{\"type\":\"histogram2dcontour\",\"colorbar\":{\"outlinewidth\":0,\"ticks\":\"\"},\"colorscale\":[[0.0,\"#0d0887\"],[0.1111111111111111,\"#46039f\"],[0.2222222222222222,\"#7201a8\"],[0.3333333333333333,\"#9c179e\"],[0.4444444444444444,\"#bd3786\"],[0.5555555555555556,\"#d8576b\"],[0.6666666666666666,\"#ed7953\"],[0.7777777777777778,\"#fb9f3a\"],[0.8888888888888888,\"#fdca26\"],[1.0,\"#f0f921\"]]}],\"choropleth\":[{\"type\":\"choropleth\",\"colorbar\":{\"outlinewidth\":0,\"ticks\":\"\"}}],\"histogram2d\":[{\"type\":\"histogram2d\",\"colorbar\":{\"outlinewidth\":0,\"ticks\":\"\"},\"colorscale\":[[0.0,\"#0d0887\"],[0.1111111111111111,\"#46039f\"],[0.2222222222222222,\"#7201a8\"],[0.3333333333333333,\"#9c179e\"],[0.4444444444444444,\"#bd3786\"],[0.5555555555555556,\"#d8576b\"],[0.6666666666666666,\"#ed7953\"],[0.7777777777777778,\"#fb9f3a\"],[0.8888888888888888,\"#fdca26\"],[1.0,\"#f0f921\"]]}],\"heatmap\":[{\"type\":\"heatmap\",\"colorbar\":{\"outlinewidth\":0,\"ticks\":\"\"},\"colorscale\":[[0.0,\"#0d0887\"],[0.1111111111111111,\"#46039f\"],[0.2222222222222222,\"#7201a8\"],[0.3333333333333333,\"#9c179e\"],[0.4444444444444444,\"#bd3786\"],[0.5555555555555556,\"#d8576b\"],[0.6666666666666666,\"#ed7953\"],[0.7777777777777778,\"#fb9f3a\"],[0.8888888888888888,\"#fdca26\"],[1.0,\"#f0f921\"]]}],\"heatmapgl\":[{\"type\":\"heatmapgl\",\"colorbar\":{\"outlinewidth\":0,\"ticks\":\"\"},\"colorscale\":[[0.0,\"#0d0887\"],[0.1111111111111111,\"#46039f\"],[0.2222222222222222,\"#7201a8\"],[0.3333333333333333,\"#9c179e\"],[0.4444444444444444,\"#bd3786\"],[0.5555555555555556,\"#d8576b\"],[0.6666666666666666,\"#ed7953\"],[0.7777777777777778,\"#fb9f3a\"],[0.8888888888888888,\"#fdca26\"],[1.0,\"#f0f921\"]]}],\"contourcarpet\":[{\"type\":\"contourcarpet\",\"colorbar\":{\"outlinewidth\":0,\"ticks\":\"\"}}],\"contour\":[{\"type\":\"contour\",\"colorbar\":{\"outlinewidth\":0,\"ticks\":\"\"},\"colorscale\":[[0.0,\"#0d0887\"],[0.1111111111111111,\"#46039f\"],[0.2222222222222222,\"#7201a8\"],[0.3333333333333333,\"#9c179e\"],[0.4444444444444444,\"#bd3786\"],[0.5555555555555556,\"#d8576b\"],[0.6666666666666666,\"#ed7953\"],[0.7777777777777778,\"#fb9f3a\"],[0.8888888888888888,\"#fdca26\"],[1.0,\"#f0f921\"]]}],\"surface\":[{\"type\":\"surface\",\"colorbar\":{\"outlinewidth\":0,\"ticks\":\"\"},\"colorscale\":[[0.0,\"#0d0887\"],[0.1111111111111111,\"#46039f\"],[0.2222222222222222,\"#7201a8\"],[0.3333333333333333,\"#9c179e\"],[0.4444444444444444,\"#bd3786\"],[0.5555555555555556,\"#d8576b\"],[0.6666666666666666,\"#ed7953\"],[0.7777777777777778,\"#fb9f3a\"],[0.8888888888888888,\"#fdca26\"],[1.0,\"#f0f921\"]]}],\"mesh3d\":[{\"type\":\"mesh3d\",\"colorbar\":{\"outlinewidth\":0,\"ticks\":\"\"}}],\"scatter\":[{\"fillpattern\":{\"fillmode\":\"overlay\",\"size\":10,\"solidity\":0.2},\"type\":\"scatter\"}],\"parcoords\":[{\"type\":\"parcoords\",\"line\":{\"colorbar\":{\"outlinewidth\":0,\"ticks\":\"\"}}}],\"scatterpolargl\":[{\"type\":\"scatterpolargl\",\"marker\":{\"colorbar\":{\"outlinewidth\":0,\"ticks\":\"\"}}}],\"bar\":[{\"error_x\":{\"color\":\"#2a3f5f\"},\"error_y\":{\"color\":\"#2a3f5f\"},\"marker\":{\"line\":{\"color\":\"#E5ECF6\",\"width\":0.5},\"pattern\":{\"fillmode\":\"overlay\",\"size\":10,\"solidity\":0.2}},\"type\":\"bar\"}],\"scattergeo\":[{\"type\":\"scattergeo\",\"marker\":{\"colorbar\":{\"outlinewidth\":0,\"ticks\":\"\"}}}],\"scatterpolar\":[{\"type\":\"scatterpolar\",\"marker\":{\"colorbar\":{\"outlinewidth\":0,\"ticks\":\"\"}}}],\"histogram\":[{\"marker\":{\"pattern\":{\"fillmode\":\"overlay\",\"size\":10,\"solidity\":0.2}},\"type\":\"histogram\"}],\"scattergl\":[{\"type\":\"scattergl\",\"marker\":{\"colorbar\":{\"outlinewidth\":0,\"ticks\":\"\"}}}],\"scatter3d\":[{\"type\":\"scatter3d\",\"line\":{\"colorbar\":{\"outlinewidth\":0,\"ticks\":\"\"}},\"marker\":{\"colorbar\":{\"outlinewidth\":0,\"ticks\":\"\"}}}],\"scattermapbox\":[{\"type\":\"scattermapbox\",\"marker\":{\"colorbar\":{\"outlinewidth\":0,\"ticks\":\"\"}}}],\"scatterternary\":[{\"type\":\"scatterternary\",\"marker\":{\"colorbar\":{\"outlinewidth\":0,\"ticks\":\"\"}}}],\"scattercarpet\":[{\"type\":\"scattercarpet\",\"marker\":{\"colorbar\":{\"outlinewidth\":0,\"ticks\":\"\"}}}],\"carpet\":[{\"aaxis\":{\"endlinecolor\":\"#2a3f5f\",\"gridcolor\":\"white\",\"linecolor\":\"white\",\"minorgridcolor\":\"white\",\"startlinecolor\":\"#2a3f5f\"},\"baxis\":{\"endlinecolor\":\"#2a3f5f\",\"gridcolor\":\"white\",\"linecolor\":\"white\",\"minorgridcolor\":\"white\",\"startlinecolor\":\"#2a3f5f\"},\"type\":\"carpet\"}],\"table\":[{\"cells\":{\"fill\":{\"color\":\"#EBF0F8\"},\"line\":{\"color\":\"white\"}},\"header\":{\"fill\":{\"color\":\"#C8D4E3\"},\"line\":{\"color\":\"white\"}},\"type\":\"table\"}],\"barpolar\":[{\"marker\":{\"line\":{\"color\":\"#E5ECF6\",\"width\":0.5},\"pattern\":{\"fillmode\":\"overlay\",\"size\":10,\"solidity\":0.2}},\"type\":\"barpolar\"}],\"pie\":[{\"automargin\":true,\"type\":\"pie\"}]},\"layout\":{\"autotypenumbers\":\"strict\",\"colorway\":[\"#636efa\",\"#EF553B\",\"#00cc96\",\"#ab63fa\",\"#FFA15A\",\"#19d3f3\",\"#FF6692\",\"#B6E880\",\"#FF97FF\",\"#FECB52\"],\"font\":{\"color\":\"#2a3f5f\"},\"hovermode\":\"closest\",\"hoverlabel\":{\"align\":\"left\"},\"paper_bgcolor\":\"white\",\"plot_bgcolor\":\"#E5ECF6\",\"polar\":{\"bgcolor\":\"#E5ECF6\",\"angularaxis\":{\"gridcolor\":\"white\",\"linecolor\":\"white\",\"ticks\":\"\"},\"radialaxis\":{\"gridcolor\":\"white\",\"linecolor\":\"white\",\"ticks\":\"\"}},\"ternary\":{\"bgcolor\":\"#E5ECF6\",\"aaxis\":{\"gridcolor\":\"white\",\"linecolor\":\"white\",\"ticks\":\"\"},\"baxis\":{\"gridcolor\":\"white\",\"linecolor\":\"white\",\"ticks\":\"\"},\"caxis\":{\"gridcolor\":\"white\",\"linecolor\":\"white\",\"ticks\":\"\"}},\"coloraxis\":{\"colorbar\":{\"outlinewidth\":0,\"ticks\":\"\"}},\"colorscale\":{\"sequential\":[[0.0,\"#0d0887\"],[0.1111111111111111,\"#46039f\"],[0.2222222222222222,\"#7201a8\"],[0.3333333333333333,\"#9c179e\"],[0.4444444444444444,\"#bd3786\"],[0.5555555555555556,\"#d8576b\"],[0.6666666666666666,\"#ed7953\"],[0.7777777777777778,\"#fb9f3a\"],[0.8888888888888888,\"#fdca26\"],[1.0,\"#f0f921\"]],\"sequentialminus\":[[0.0,\"#0d0887\"],[0.1111111111111111,\"#46039f\"],[0.2222222222222222,\"#7201a8\"],[0.3333333333333333,\"#9c179e\"],[0.4444444444444444,\"#bd3786\"],[0.5555555555555556,\"#d8576b\"],[0.6666666666666666,\"#ed7953\"],[0.7777777777777778,\"#fb9f3a\"],[0.8888888888888888,\"#fdca26\"],[1.0,\"#f0f921\"]],\"diverging\":[[0,\"#8e0152\"],[0.1,\"#c51b7d\"],[0.2,\"#de77ae\"],[0.3,\"#f1b6da\"],[0.4,\"#fde0ef\"],[0.5,\"#f7f7f7\"],[0.6,\"#e6f5d0\"],[0.7,\"#b8e186\"],[0.8,\"#7fbc41\"],[0.9,\"#4d9221\"],[1,\"#276419\"]]},\"xaxis\":{\"gridcolor\":\"white\",\"linecolor\":\"white\",\"ticks\":\"\",\"title\":{\"standoff\":15},\"zerolinecolor\":\"white\",\"automargin\":true,\"zerolinewidth\":2},\"yaxis\":{\"gridcolor\":\"white\",\"linecolor\":\"white\",\"ticks\":\"\",\"title\":{\"standoff\":15},\"zerolinecolor\":\"white\",\"automargin\":true,\"zerolinewidth\":2},\"scene\":{\"xaxis\":{\"backgroundcolor\":\"#E5ECF6\",\"gridcolor\":\"white\",\"linecolor\":\"white\",\"showbackground\":true,\"ticks\":\"\",\"zerolinecolor\":\"white\",\"gridwidth\":2},\"yaxis\":{\"backgroundcolor\":\"#E5ECF6\",\"gridcolor\":\"white\",\"linecolor\":\"white\",\"showbackground\":true,\"ticks\":\"\",\"zerolinecolor\":\"white\",\"gridwidth\":2},\"zaxis\":{\"backgroundcolor\":\"#E5ECF6\",\"gridcolor\":\"white\",\"linecolor\":\"white\",\"showbackground\":true,\"ticks\":\"\",\"zerolinecolor\":\"white\",\"gridwidth\":2}},\"shapedefaults\":{\"line\":{\"color\":\"#2a3f5f\"}},\"annotationdefaults\":{\"arrowcolor\":\"#2a3f5f\",\"arrowhead\":0,\"arrowwidth\":1},\"geo\":{\"bgcolor\":\"white\",\"landcolor\":\"#E5ECF6\",\"subunitcolor\":\"white\",\"showland\":true,\"showlakes\":true,\"lakecolor\":\"white\"},\"title\":{\"x\":0.05},\"mapbox\":{\"style\":\"light\"}}}},                        {\"responsive\": true}                    ).then(function(){\n",
       "                            \n",
       "var gd = document.getElementById('2987b868-dcca-4d22-ab5c-bea8632358ce');\n",
       "var x = new MutationObserver(function (mutations, observer) {{\n",
       "        var display = window.getComputedStyle(gd).display;\n",
       "        if (!display || display === 'none') {{\n",
       "            console.log([gd, 'removed!']);\n",
       "            Plotly.purge(gd);\n",
       "            observer.disconnect();\n",
       "        }}\n",
       "}});\n",
       "\n",
       "// Listen for the removal of the full notebook cells\n",
       "var notebookContainer = gd.closest('#notebook-container');\n",
       "if (notebookContainer) {{\n",
       "    x.observe(notebookContainer, {childList: true});\n",
       "}}\n",
       "\n",
       "// Listen for the clearing of the current output cell\n",
       "var outputEl = gd.closest('.output');\n",
       "if (outputEl) {{\n",
       "    x.observe(outputEl, {childList: true});\n",
       "}}\n",
       "\n",
       "                        })                };                });            </script>        </div>"
      ]
     },
     "metadata": {},
     "output_type": "display_data"
    }
   ],
   "source": [
    "sampler = TPESampler(n_startup_trials=n_startup_trials)\n",
    "# Do not prune before 1/3 of the max budget is used\n",
    "pruner = MedianPruner(\n",
    "    n_startup_trials=n_startup_trials, n_warmup_steps=(n_timesteps // 3)\n",
    ")\n",
    "# Create the study and start the hyperparameter optimization\n",
    "study = optuna.create_study(sampler=sampler, pruner=pruner, direction=\"maximize\")\n",
    "\n",
    "try:\n",
    "    study.optimize(objective, n_trials=n_trials, n_jobs=n_jobs, timeout=timeout)\n",
    "except KeyboardInterrupt:\n",
    "    pass\n",
    "\n",
    "print(\"Number of finished trials: \", len(study.trials))\n",
    "\n",
    "print(\"Best trial:\")\n",
    "trial = study.best_trial\n",
    "\n",
    "print(f\"  Value: {trial.value}\")\n",
    "\n",
    "print(\"  Params: \")\n",
    "for key, value in trial.params.items():\n",
    "    print(f\"    {key}: {value}\")\n",
    "\n",
    "# Write report\n",
    "study.trials_dataframe().to_csv(\"study_results_sac_pendulum.csv\")\n",
    "\n",
    "fig1 = plot_optimization_history(study)\n",
    "fig2 = plot_param_importances(study)\n",
    "\n",
    "fig1.show()\n",
    "fig2.show()"
   ]
  },
  {
   "cell_type": "markdown",
   "id": "5601d691",
   "metadata": {
    "id": "PyuhSV_iqo0J",
    "papermill": {
     "duration": 0.012795,
     "end_time": "2024-11-21T16:19:54.649698",
     "exception": false,
     "start_time": "2024-11-21T16:19:54.636903",
     "status": "completed"
    },
    "tags": []
   },
   "source": [
    "# Train the Final Agent"
   ]
  },
  {
   "cell_type": "code",
   "execution_count": 13,
   "id": "7a3bc0e4",
   "metadata": {
    "execution": {
     "iopub.execute_input": "2024-11-21T16:19:54.676486Z",
     "iopub.status.busy": "2024-11-21T16:19:54.676182Z",
     "iopub.status.idle": "2024-11-21T18:26:16.763808Z",
     "shell.execute_reply": "2024-11-21T18:26:16.762825Z"
    },
    "id": "Ao0DrkQHqtDr",
    "papermill": {
     "duration": 7582.10362,
     "end_time": "2024-11-21T18:26:16.766157",
     "exception": false,
     "start_time": "2024-11-21T16:19:54.662537",
     "status": "completed"
    },
    "tags": []
   },
   "outputs": [],
   "source": [
    "\n",
    "# Extract the net_arch param into policy_kwargs\n",
    "best_params = default_hyperparams.copy()\n",
    "best_params.update(trial.params)\n",
    "net_arch = best_params.pop('net_arch')\n",
    "best_params[\"policy_kwargs\"] = { \"net_arch\": net_arch }\n",
    "best_model = SAC(**best_params)\n",
    "best_model.learn(total_timesteps=100_000)\n",
    "model_name = \"sac-pendulum-v1-optuna\"\n",
    "best_model.save(model_name)"
   ]
  },
  {
   "cell_type": "markdown",
   "id": "0bc45cc5",
   "metadata": {
    "id": "kgZZsDFiUv66",
    "papermill": {
     "duration": 0.013096,
     "end_time": "2024-11-21T18:26:16.793080",
     "exception": false,
     "start_time": "2024-11-21T18:26:16.779984",
     "status": "completed"
    },
    "tags": []
   },
   "source": [
    "# Evaluate the Agent"
   ]
  },
  {
   "cell_type": "code",
   "execution_count": 14,
   "id": "0b43b8a6",
   "metadata": {
    "execution": {
     "iopub.execute_input": "2024-11-21T18:26:16.820960Z",
     "iopub.status.busy": "2024-11-21T18:26:16.820613Z",
     "iopub.status.idle": "2024-11-21T18:26:18.605229Z",
     "shell.execute_reply": "2024-11-21T18:26:18.604334Z"
    },
    "id": "wbA7CWmxUxr2",
    "papermill": {
     "duration": 1.801191,
     "end_time": "2024-11-21T18:26:18.607037",
     "exception": false,
     "start_time": "2024-11-21T18:26:16.805846",
     "status": "completed"
    },
    "tags": []
   },
   "outputs": [
    {
     "name": "stdout",
     "output_type": "stream",
     "text": [
      "mean reward: -182.79, +/- 75.38501039054042\n"
     ]
    }
   ],
   "source": [
    "eval_env = Monitor(gym.make(env_id))\n",
    "mean_reward, std_reward = evaluate_policy(best_model, eval_env, n_eval_episodes=10, deterministic=True)\n",
    "print(f\"mean reward: {mean_reward: .2f}, +/- {std_reward}\")"
   ]
  },
  {
   "cell_type": "markdown",
   "id": "4930260a",
   "metadata": {
    "id": "XdtuwsTKRne1",
    "papermill": {
     "duration": 0.012967,
     "end_time": "2024-11-21T18:26:18.634216",
     "exception": false,
     "start_time": "2024-11-21T18:26:18.621249",
     "status": "completed"
    },
    "tags": []
   },
   "source": [
    "# Publish my trained model on the Huggingface Hub 🔥"
   ]
  },
  {
   "cell_type": "code",
   "execution_count": null,
   "id": "a308942b",
   "metadata": {
    "execution": {
     "iopub.execute_input": "2024-11-21T18:26:18.662009Z",
     "iopub.status.busy": "2024-11-21T18:26:18.661734Z",
     "iopub.status.idle": "2024-11-21T18:26:18.665297Z",
     "shell.execute_reply": "2024-11-21T18:26:18.664529Z"
    },
    "id": "_4YUjgiARv1b",
    "papermill": {
     "duration": 0.01924,
     "end_time": "2024-11-21T18:26:18.667006",
     "exception": false,
     "start_time": "2024-11-21T18:26:18.647766",
     "status": "completed"
    },
    "tags": []
   },
   "outputs": [],
   "source": [
    "notebook_login()\n",
    "!git config --global credential.helper store"
   ]
  },
  {
   "cell_type": "code",
   "execution_count": 16,
   "id": "8e529dcd",
   "metadata": {
    "execution": {
     "iopub.execute_input": "2024-11-21T18:26:18.695359Z",
     "iopub.status.busy": "2024-11-21T18:26:18.695013Z",
     "iopub.status.idle": "2024-11-21T18:26:18.702635Z",
     "shell.execute_reply": "2024-11-21T18:26:18.701817Z"
    },
    "id": "ZMc2KhUsRwqY",
    "papermill": {
     "duration": 0.023649,
     "end_time": "2024-11-21T18:26:18.704319",
     "exception": false,
     "start_time": "2024-11-21T18:26:18.680670",
     "status": "completed"
    },
    "tags": []
   },
   "outputs": [],
   "source": [
    "from stable_baselines3.common.vec_env import DummyVecEnv\n",
    "\n",
    "env_id = \"Pendulum-v1\"\n",
    "model_architecture = \"SAC\"\n",
    "## repo_id is the id of the model repository from the Hugging Face Hub (repo_id = {username}/{repo_name}\n",
    "repo_id = \"wowthecoder/sac-pendulum-v1-optuna\"\n",
    "commit_msg = \"Upload SAC Pendulum agent with tuned hyperparameters from Optuna\"\n",
    "# Create the eval env and set the render mode = \"rgb_array\"\n",
    "eval_env = DummyVecEnv([lambda: Monitor(gym.make(env_id, render_mode=\"rgb_array\"))])\n",
    "\n",
    "# package_to_hub(\n",
    "#     model=best_model,\n",
    "#     model_name=model_name,\n",
    "#     model_architecture=model_architecture,\n",
    "#     env_id=env_id,\n",
    "#     eval_env = eval_env,\n",
    "#     repo_id = repo_id,\n",
    "#     commit_message=commit_msg,\n",
    "# )"
   ]
  }
 ],
 "metadata": {
  "accelerator": "GPU",
  "colab": {
   "gpuType": "T4",
   "provenance": []
  },
  "kaggle": {
   "accelerator": "nvidiaTeslaT4",
   "dataSources": [],
   "dockerImageVersionId": 30787,
   "isGpuEnabled": true,
   "isInternetEnabled": true,
   "language": "python",
   "sourceType": "notebook"
  },
  "kernelspec": {
   "display_name": "Python 3",
   "language": "python",
   "name": "python3"
  },
  "language_info": {
   "codemirror_mode": {
    "name": "ipython",
    "version": 3
   },
   "file_extension": ".py",
   "mimetype": "text/x-python",
   "name": "python",
   "nbconvert_exporter": "python",
   "pygments_lexer": "ipython3",
   "version": "3.10.14"
  },
  "papermill": {
   "default_parameters": {},
   "duration": 21162.90431,
   "end_time": "2024-11-21T18:26:21.435783",
   "environment_variables": {},
   "exception": null,
   "input_path": "__notebook__.ipynb",
   "output_path": "__notebook__.ipynb",
   "parameters": {},
   "start_time": "2024-11-21T12:33:38.531473",
   "version": "2.6.0"
  }
 },
 "nbformat": 4,
 "nbformat_minor": 5
}
